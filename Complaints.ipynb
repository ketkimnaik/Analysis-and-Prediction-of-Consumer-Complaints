{
  "nbformat": 4,
  "nbformat_minor": 0,
  "metadata": {
    "colab": {
      "name": "Complaints.ipynb",
      "provenance": [],
      "collapsed_sections": [],
      "machine_shape": "hm"
    },
    "kernelspec": {
      "name": "python3",
      "display_name": "Python 3"
    }
  },
  "cells": [
    {
      "cell_type": "code",
      "metadata": {
        "id": "8UbWJRajT_8O",
        "colab_type": "code",
        "outputId": "d10d556b-f84d-4f56-ed1a-fbbf75e25c46",
        "colab": {
          "base_uri": "https://localhost:8080/",
          "height": 102
        }
      },
      "source": [
        "import pandas as pd\n",
        "import numpy as np\n",
        "from scipy.stats import randint\n",
        "from io import StringIO\n",
        "from sklearn.feature_extraction.text import TfidfVectorizer\n",
        "from sklearn.feature_selection import chi2\n",
        "from IPython.display import display\n",
        "from sklearn.model_selection import train_test_split\n",
        "import seaborn as sns # used for plot interactive graph. \n",
        "import matplotlib.pyplot as plt\n",
        "import seaborn as sns\n",
        "from sklearn.feature_extraction.text import TfidfTransformer\n",
        "from sklearn.naive_bayes import MultinomialNB\n",
        "from sklearn.linear_model import LogisticRegression\n",
        "from sklearn.ensemble import RandomForestClassifier\n",
        "from sklearn.svm import LinearSVC\n",
        "from sklearn.model_selection import cross_val_score\n",
        "from sklearn.metrics import confusion_matrix\n",
        "from sklearn import metrics\n",
        "import nltk\n",
        "nltk.download('stopwords')"
      ],
      "execution_count": 0,
      "outputs": [
        {
          "output_type": "stream",
          "text": [
            "/usr/local/lib/python3.6/dist-packages/statsmodels/tools/_testing.py:19: FutureWarning: pandas.util.testing is deprecated. Use the functions in the public API at pandas.testing instead.\n",
            "  import pandas.util.testing as tm\n"
          ],
          "name": "stderr"
        },
        {
          "output_type": "stream",
          "text": [
            "[nltk_data] Downloading package stopwords to /root/nltk_data...\n",
            "[nltk_data]   Unzipping corpora/stopwords.zip.\n"
          ],
          "name": "stdout"
        },
        {
          "output_type": "execute_result",
          "data": {
            "text/plain": [
              "True"
            ]
          },
          "metadata": {
            "tags": []
          },
          "execution_count": 1
        }
      ]
    },
    {
      "cell_type": "code",
      "metadata": {
        "id": "NVr8A9GMUHiL",
        "colab_type": "code",
        "outputId": "ee3380b3-d770-4a9e-eefd-b6953c6f0db4",
        "colab": {
          "base_uri": "https://localhost:8080/",
          "height": 68
        }
      },
      "source": [
        "# Data loading from csv\n",
        "dataframe = pd.read_csv('consumercomplaints.csv')\n",
        "dataframe.shape\n"
      ],
      "execution_count": 0,
      "outputs": [
        {
          "output_type": "stream",
          "text": [
            "/usr/local/lib/python3.6/dist-packages/IPython/core/interactiveshell.py:2718: DtypeWarning: Columns (4,5,6,11,16) have mixed types.Specify dtype option on import or set low_memory=False.\n",
            "  interactivity=interactivity, compiler=compiler, result=result)\n"
          ],
          "name": "stderr"
        },
        {
          "output_type": "execute_result",
          "data": {
            "text/plain": [
              "(1383226, 18)"
            ]
          },
          "metadata": {
            "tags": []
          },
          "execution_count": 2
        }
      ]
    },
    {
      "cell_type": "code",
      "metadata": {
        "id": "V-X4W1zKbSYy",
        "colab_type": "code",
        "outputId": "a78824d7-7a29-4896-f464-23fab575d7a5",
        "colab": {
          "base_uri": "https://localhost:8080/",
          "height": 598
        }
      },
      "source": [
        "dataframe.head(5)"
      ],
      "execution_count": 0,
      "outputs": [
        {
          "output_type": "execute_result",
          "data": {
            "text/html": [
              "<div>\n",
              "<style scoped>\n",
              "    .dataframe tbody tr th:only-of-type {\n",
              "        vertical-align: middle;\n",
              "    }\n",
              "\n",
              "    .dataframe tbody tr th {\n",
              "        vertical-align: top;\n",
              "    }\n",
              "\n",
              "    .dataframe thead th {\n",
              "        text-align: right;\n",
              "    }\n",
              "</style>\n",
              "<table border=\"1\" class=\"dataframe\">\n",
              "  <thead>\n",
              "    <tr style=\"text-align: right;\">\n",
              "      <th></th>\n",
              "      <th>Date received</th>\n",
              "      <th>Product</th>\n",
              "      <th>Sub-product</th>\n",
              "      <th>Issue</th>\n",
              "      <th>Sub-issue</th>\n",
              "      <th>Consumer complaint narrative</th>\n",
              "      <th>Company public response</th>\n",
              "      <th>Company</th>\n",
              "      <th>State</th>\n",
              "      <th>ZIP code</th>\n",
              "      <th>Tags</th>\n",
              "      <th>Consumer consent provided?</th>\n",
              "      <th>Submitted via</th>\n",
              "      <th>Date sent to company</th>\n",
              "      <th>Company response to consumer</th>\n",
              "      <th>Timely response?</th>\n",
              "      <th>Consumer disputed?</th>\n",
              "      <th>Complaint ID</th>\n",
              "    </tr>\n",
              "  </thead>\n",
              "  <tbody>\n",
              "    <tr>\n",
              "      <th>0</th>\n",
              "      <td>09/13/2019</td>\n",
              "      <td>Debt collection</td>\n",
              "      <td>Other debt</td>\n",
              "      <td>False statements or representation</td>\n",
              "      <td>Attempted to collect wrong amount</td>\n",
              "      <td>NaN</td>\n",
              "      <td>NaN</td>\n",
              "      <td>CONTRACT CALLERS INC</td>\n",
              "      <td>AZ</td>\n",
              "      <td>85203</td>\n",
              "      <td>NaN</td>\n",
              "      <td>NaN</td>\n",
              "      <td>Web</td>\n",
              "      <td>09/13/2019</td>\n",
              "      <td>In progress</td>\n",
              "      <td>Yes</td>\n",
              "      <td>NaN</td>\n",
              "      <td>3372697</td>\n",
              "    </tr>\n",
              "    <tr>\n",
              "      <th>1</th>\n",
              "      <td>09/13/2019</td>\n",
              "      <td>Debt collection</td>\n",
              "      <td>I do not know</td>\n",
              "      <td>Attempts to collect debt not owed</td>\n",
              "      <td>Debt is not yours</td>\n",
              "      <td>NaN</td>\n",
              "      <td>NaN</td>\n",
              "      <td>Diversified Consultants, Inc.</td>\n",
              "      <td>NJ</td>\n",
              "      <td>07311</td>\n",
              "      <td>NaN</td>\n",
              "      <td>NaN</td>\n",
              "      <td>Web</td>\n",
              "      <td>09/13/2019</td>\n",
              "      <td>In progress</td>\n",
              "      <td>Yes</td>\n",
              "      <td>NaN</td>\n",
              "      <td>3373295</td>\n",
              "    </tr>\n",
              "    <tr>\n",
              "      <th>2</th>\n",
              "      <td>09/13/2019</td>\n",
              "      <td>Payday loan, title loan, or personal loan</td>\n",
              "      <td>Payday loan</td>\n",
              "      <td>Problem with the payoff process at the end of ...</td>\n",
              "      <td>NaN</td>\n",
              "      <td>NaN</td>\n",
              "      <td>NaN</td>\n",
              "      <td>CURO Intermediate Holdings</td>\n",
              "      <td>CA</td>\n",
              "      <td>94931</td>\n",
              "      <td>NaN</td>\n",
              "      <td>NaN</td>\n",
              "      <td>Web</td>\n",
              "      <td>09/13/2019</td>\n",
              "      <td>Closed with explanation</td>\n",
              "      <td>Yes</td>\n",
              "      <td>NaN</td>\n",
              "      <td>3373845</td>\n",
              "    </tr>\n",
              "    <tr>\n",
              "      <th>3</th>\n",
              "      <td>09/13/2019</td>\n",
              "      <td>Debt collection</td>\n",
              "      <td>I do not know</td>\n",
              "      <td>Attempts to collect debt not owed</td>\n",
              "      <td>Debt was result of identity theft</td>\n",
              "      <td>NaN</td>\n",
              "      <td>Company has responded to the consumer and the ...</td>\n",
              "      <td>Convergent Resources, Inc.</td>\n",
              "      <td>GA</td>\n",
              "      <td>31088</td>\n",
              "      <td>Servicemember</td>\n",
              "      <td>Consent not provided</td>\n",
              "      <td>Web</td>\n",
              "      <td>09/13/2019</td>\n",
              "      <td>Closed with explanation</td>\n",
              "      <td>Yes</td>\n",
              "      <td>NaN</td>\n",
              "      <td>3372694</td>\n",
              "    </tr>\n",
              "    <tr>\n",
              "      <th>4</th>\n",
              "      <td>09/13/2019</td>\n",
              "      <td>Payday loan, title loan, or personal loan</td>\n",
              "      <td>Personal line of credit</td>\n",
              "      <td>Problem when making payments</td>\n",
              "      <td>NaN</td>\n",
              "      <td>NaN</td>\n",
              "      <td>Company has responded to the consumer and the ...</td>\n",
              "      <td>Prosper Marketplace, Inc.</td>\n",
              "      <td>KY</td>\n",
              "      <td>40515</td>\n",
              "      <td>NaN</td>\n",
              "      <td>NaN</td>\n",
              "      <td>Web</td>\n",
              "      <td>09/13/2019</td>\n",
              "      <td>Closed with explanation</td>\n",
              "      <td>Yes</td>\n",
              "      <td>NaN</td>\n",
              "      <td>3373971</td>\n",
              "    </tr>\n",
              "  </tbody>\n",
              "</table>\n",
              "</div>"
            ],
            "text/plain": [
              "  Date received  ... Complaint ID\n",
              "0    09/13/2019  ...      3372697\n",
              "1    09/13/2019  ...      3373295\n",
              "2    09/13/2019  ...      3373845\n",
              "3    09/13/2019  ...      3372694\n",
              "4    09/13/2019  ...      3373971\n",
              "\n",
              "[5 rows x 18 columns]"
            ]
          },
          "metadata": {
            "tags": []
          },
          "execution_count": 3
        }
      ]
    },
    {
      "cell_type": "code",
      "metadata": {
        "id": "Trt6RGHXbixw",
        "colab_type": "code",
        "outputId": "f8a7d900-2062-4ea4-8ac1-a77045a24e0a",
        "colab": {
          "base_uri": "https://localhost:8080/",
          "height": 34
        }
      },
      "source": [
        "# Creating a new dataframe with only the two features we need\n",
        "dataframe1 = dataframe[['Product', 'Consumer complaint narrative']].copy()\n",
        "\n",
        "# NaN values are removed (null)\n",
        "dataframe1 = dataframe1[pd.notnull(dataframe1['Consumer complaint narrative'])]\n",
        "\n",
        "# Consume complaint narrative is renamed as Complaint\n",
        "dataframe1.columns = ['Product', 'Complaint'] \n",
        "\n",
        "dataframe1.shape"
      ],
      "execution_count": 0,
      "outputs": [
        {
          "output_type": "execute_result",
          "data": {
            "text/plain": [
              "(438660, 2)"
            ]
          },
          "metadata": {
            "tags": []
          },
          "execution_count": 4
        }
      ]
    },
    {
      "cell_type": "markdown",
      "metadata": {
        "id": "-oJGfviA_tCP",
        "colab_type": "text"
      },
      "source": [
        "https://stackoverflow.com/questions/14270391/python-matplotlib-multiple-bars"
      ]
    },
    {
      "cell_type": "code",
      "metadata": {
        "id": "Jyq6NMAqcGGz",
        "colab_type": "code",
        "outputId": "be7212e9-5f24-461a-eb5c-d497a4dc5d73",
        "colab": {
          "base_uri": "https://localhost:8080/",
          "height": 34
        }
      },
      "source": [
        "# Percentage of actual complaints (not null)\n",
        "total = dataframe1['Complaint'].notnull().sum()\n",
        "round((total/len(dataframe)*100),1)"
      ],
      "execution_count": 0,
      "outputs": [
        {
          "output_type": "execute_result",
          "data": {
            "text/plain": [
              "31.7"
            ]
          },
          "metadata": {
            "tags": []
          },
          "execution_count": 5
        }
      ]
    },
    {
      "cell_type": "code",
      "metadata": {
        "id": "rl-77K7XceZr",
        "colab_type": "code",
        "outputId": "8961a29e-5cdd-46cb-e2c7-cf6d2583ed9d",
        "colab": {
          "base_uri": "https://localhost:8080/",
          "height": 323
        }
      },
      "source": [
        "pd.DataFrame(dataframe.Product.unique()).values"
      ],
      "execution_count": 0,
      "outputs": [
        {
          "output_type": "execute_result",
          "data": {
            "text/plain": [
              "array([['Debt collection'],\n",
              "       ['Payday loan, title loan, or personal loan'],\n",
              "       ['Credit reporting, credit repair services, or other personal consumer reports'],\n",
              "       ['Mortgage'],\n",
              "       ['Money transfer, virtual currency, or money service'],\n",
              "       ['Credit card or prepaid card'],\n",
              "       ['Vehicle loan or lease'],\n",
              "       ['Checking or savings account'],\n",
              "       ['Student loan'],\n",
              "       ['Credit reporting'],\n",
              "       ['Credit card'],\n",
              "       ['Bank account or service'],\n",
              "       ['Other financial service'],\n",
              "       ['Consumer Loan'],\n",
              "       ['Payday loan'],\n",
              "       ['Prepaid card'],\n",
              "       ['Money transfers'],\n",
              "       ['Virtual currency']], dtype=object)"
            ]
          },
          "metadata": {
            "tags": []
          },
          "execution_count": 6
        }
      ]
    },
    {
      "cell_type": "code",
      "metadata": {
        "id": "pidyUoz3cg2v",
        "colab_type": "code",
        "colab": {}
      },
      "source": [
        "# Because the computation is time consuming (in terms of CPU), the data was sampled\n",
        "df2 = dataframe1.sample(10000, random_state=1).copy()"
      ],
      "execution_count": 0,
      "outputs": []
    },
    {
      "cell_type": "code",
      "metadata": {
        "id": "LKP2Nu-AcnRj",
        "colab_type": "code",
        "colab": {}
      },
      "source": [
        "# Renaming categories\n",
        "df2.replace({'Product': \n",
        "             {'Credit reporting, credit repair services, or other personal consumer reports': \n",
        "              'Credit reporting, repair, or other', \n",
        "              'Credit reporting': 'Credit reporting, repair, or other',\n",
        "             'Credit card': 'Credit card or prepaid card',\n",
        "             'Prepaid card': 'Credit card or prepaid card',\n",
        "             'Payday loan': 'Payday loan, title loan, or personal loan',\n",
        "             'Money transfer': 'Money transfer, virtual currency, or money service',\n",
        "             'Virtual currency': 'Money transfer, virtual currency, or money service'}}, \n",
        "            inplace= True)"
      ],
      "execution_count": 0,
      "outputs": []
    },
    {
      "cell_type": "code",
      "metadata": {
        "id": "KtoBQ9Tfcrh-",
        "colab_type": "code",
        "outputId": "188cd002-9315-4c51-8309-a121aa4a22d1",
        "colab": {
          "base_uri": "https://localhost:8080/",
          "height": 452
        }
      },
      "source": [
        "pd.DataFrame(df2.Product.unique())"
      ],
      "execution_count": 0,
      "outputs": [
        {
          "output_type": "execute_result",
          "data": {
            "text/html": [
              "<div>\n",
              "<style scoped>\n",
              "    .dataframe tbody tr th:only-of-type {\n",
              "        vertical-align: middle;\n",
              "    }\n",
              "\n",
              "    .dataframe tbody tr th {\n",
              "        vertical-align: top;\n",
              "    }\n",
              "\n",
              "    .dataframe thead th {\n",
              "        text-align: right;\n",
              "    }\n",
              "</style>\n",
              "<table border=\"1\" class=\"dataframe\">\n",
              "  <thead>\n",
              "    <tr style=\"text-align: right;\">\n",
              "      <th></th>\n",
              "      <th>0</th>\n",
              "    </tr>\n",
              "  </thead>\n",
              "  <tbody>\n",
              "    <tr>\n",
              "      <th>0</th>\n",
              "      <td>Debt collection</td>\n",
              "    </tr>\n",
              "    <tr>\n",
              "      <th>1</th>\n",
              "      <td>Student loan</td>\n",
              "    </tr>\n",
              "    <tr>\n",
              "      <th>2</th>\n",
              "      <td>Checking or savings account</td>\n",
              "    </tr>\n",
              "    <tr>\n",
              "      <th>3</th>\n",
              "      <td>Consumer Loan</td>\n",
              "    </tr>\n",
              "    <tr>\n",
              "      <th>4</th>\n",
              "      <td>Mortgage</td>\n",
              "    </tr>\n",
              "    <tr>\n",
              "      <th>5</th>\n",
              "      <td>Credit card or prepaid card</td>\n",
              "    </tr>\n",
              "    <tr>\n",
              "      <th>6</th>\n",
              "      <td>Credit reporting, repair, or other</td>\n",
              "    </tr>\n",
              "    <tr>\n",
              "      <th>7</th>\n",
              "      <td>Vehicle loan or lease</td>\n",
              "    </tr>\n",
              "    <tr>\n",
              "      <th>8</th>\n",
              "      <td>Money transfer, virtual currency, or money ser...</td>\n",
              "    </tr>\n",
              "    <tr>\n",
              "      <th>9</th>\n",
              "      <td>Bank account or service</td>\n",
              "    </tr>\n",
              "    <tr>\n",
              "      <th>10</th>\n",
              "      <td>Payday loan, title loan, or personal loan</td>\n",
              "    </tr>\n",
              "    <tr>\n",
              "      <th>11</th>\n",
              "      <td>Money transfers</td>\n",
              "    </tr>\n",
              "    <tr>\n",
              "      <th>12</th>\n",
              "      <td>Other financial service</td>\n",
              "    </tr>\n",
              "  </tbody>\n",
              "</table>\n",
              "</div>"
            ],
            "text/plain": [
              "                                                    0\n",
              "0                                     Debt collection\n",
              "1                                        Student loan\n",
              "2                         Checking or savings account\n",
              "3                                       Consumer Loan\n",
              "4                                            Mortgage\n",
              "5                         Credit card or prepaid card\n",
              "6                  Credit reporting, repair, or other\n",
              "7                               Vehicle loan or lease\n",
              "8   Money transfer, virtual currency, or money ser...\n",
              "9                             Bank account or service\n",
              "10          Payday loan, title loan, or personal loan\n",
              "11                                    Money transfers\n",
              "12                            Other financial service"
            ]
          },
          "metadata": {
            "tags": []
          },
          "execution_count": 9
        }
      ]
    },
    {
      "cell_type": "code",
      "metadata": {
        "id": "HaEt6FTfcveC",
        "colab_type": "code",
        "outputId": "8241b7ae-6541-40eb-d07c-f7788f96fecc",
        "colab": {
          "base_uri": "https://localhost:8080/",
          "height": 359
        }
      },
      "source": [
        "# A new column 'CategoryId' is created to maintain categories\n",
        "df2['CategoryId'] = df2['Product'].factorize()[0]\n",
        "category_id_df = df2[['Product', 'CategoryId']].drop_duplicates()\n",
        "#del df2['CategoryId']\n",
        "\n",
        "# Dictionaries to make search easier later\n",
        "category_to_id = dict(category_id_df.values)\n",
        "id_to_category = dict(category_id_df[['CategoryId', 'Product']].values)\n",
        "\n",
        "# Resulted dataframe with categories\n",
        "df2.head(10)"
      ],
      "execution_count": 0,
      "outputs": [
        {
          "output_type": "execute_result",
          "data": {
            "text/html": [
              "<div>\n",
              "<style scoped>\n",
              "    .dataframe tbody tr th:only-of-type {\n",
              "        vertical-align: middle;\n",
              "    }\n",
              "\n",
              "    .dataframe tbody tr th {\n",
              "        vertical-align: top;\n",
              "    }\n",
              "\n",
              "    .dataframe thead th {\n",
              "        text-align: right;\n",
              "    }\n",
              "</style>\n",
              "<table border=\"1\" class=\"dataframe\">\n",
              "  <thead>\n",
              "    <tr style=\"text-align: right;\">\n",
              "      <th></th>\n",
              "      <th>Product</th>\n",
              "      <th>Complaint</th>\n",
              "      <th>CategoryId</th>\n",
              "    </tr>\n",
              "  </thead>\n",
              "  <tbody>\n",
              "    <tr>\n",
              "      <th>88396</th>\n",
              "      <td>Debt collection</td>\n",
              "      <td>on XX/XX/19 commenity capital bank called a re...</td>\n",
              "      <td>0</td>\n",
              "    </tr>\n",
              "    <tr>\n",
              "      <th>672838</th>\n",
              "      <td>Student loan</td>\n",
              "      <td>I co signed XXXX loans for my son years ago wi...</td>\n",
              "      <td>1</td>\n",
              "    </tr>\n",
              "    <tr>\n",
              "      <th>450389</th>\n",
              "      <td>Checking or savings account</td>\n",
              "      <td>I was involved in an online relationship with ...</td>\n",
              "      <td>2</td>\n",
              "    </tr>\n",
              "    <tr>\n",
              "      <th>649714</th>\n",
              "      <td>Consumer Loan</td>\n",
              "      <td>I purchased a XXXX XXXX XXXX truck from XXXX X...</td>\n",
              "      <td>3</td>\n",
              "    </tr>\n",
              "    <tr>\n",
              "      <th>907024</th>\n",
              "      <td>Debt collection</td>\n",
              "      <td>A man called from a company called RMB - which...</td>\n",
              "      <td>0</td>\n",
              "    </tr>\n",
              "    <tr>\n",
              "      <th>408205</th>\n",
              "      <td>Debt collection</td>\n",
              "      <td>\" Credence Resource Management '' has called m...</td>\n",
              "      <td>0</td>\n",
              "    </tr>\n",
              "    <tr>\n",
              "      <th>1000587</th>\n",
              "      <td>Debt collection</td>\n",
              "      <td>I am victim of fraud and someone stole my iden...</td>\n",
              "      <td>0</td>\n",
              "    </tr>\n",
              "    <tr>\n",
              "      <th>72085</th>\n",
              "      <td>Debt collection</td>\n",
              "      <td>I received a notice from The Advantage Group, ...</td>\n",
              "      <td>0</td>\n",
              "    </tr>\n",
              "    <tr>\n",
              "      <th>18312</th>\n",
              "      <td>Mortgage</td>\n",
              "      <td>Account # XXXXThrough Freedom MortgageMy accou...</td>\n",
              "      <td>4</td>\n",
              "    </tr>\n",
              "    <tr>\n",
              "      <th>255813</th>\n",
              "      <td>Credit card or prepaid card</td>\n",
              "      <td>On XX/XX/2018 I used my credit card to rent a ...</td>\n",
              "      <td>5</td>\n",
              "    </tr>\n",
              "  </tbody>\n",
              "</table>\n",
              "</div>"
            ],
            "text/plain": [
              "                             Product  ... CategoryId\n",
              "88396                Debt collection  ...          0\n",
              "672838                  Student loan  ...          1\n",
              "450389   Checking or savings account  ...          2\n",
              "649714                 Consumer Loan  ...          3\n",
              "907024               Debt collection  ...          0\n",
              "408205               Debt collection  ...          0\n",
              "1000587              Debt collection  ...          0\n",
              "72085                Debt collection  ...          0\n",
              "18312                       Mortgage  ...          4\n",
              "255813   Credit card or prepaid card  ...          5\n",
              "\n",
              "[10 rows x 3 columns]"
            ]
          },
          "metadata": {
            "tags": []
          },
          "execution_count": 10
        }
      ]
    },
    {
      "cell_type": "code",
      "metadata": {
        "id": "icz6dY4Aizbi",
        "colab_type": "code",
        "outputId": "fb9eb304-3683-4183-bdb2-e98ce63e3098",
        "colab": {
          "base_uri": "https://localhost:8080/",
          "height": 418
        }
      },
      "source": [
        "fig = plt.figure(figsize=(8,6))\n",
        "colors = ['red','red','red','red','red','red','red','red','red',\n",
        "    'red','green','green','green']\n",
        "df2.groupby('Product').Complaint.count().sort_values().plot.barh(\n",
        "    ylim=0, color=colors, edgecolor='black', title= 'TOTAL COMPLAINTS IN EACH FINANCIAL PRODUCT CATEGORY\\n')\n",
        "plt.xlabel('Number of complaints', fontsize = 9);"
      ],
      "execution_count": 0,
      "outputs": [
        {
          "output_type": "display_data",
          "data": {
            "image/png": "[encoded data removed]",
            "text/plain": [
              "<Figure size 576x432 with 1 Axes>"
            ]
          },
          "metadata": {
            "tags": [],
            "needs_background": "light"
          }
        }
      ]
    },
    {
      "cell_type": "code",
      "metadata": {
        "id": "3WAoTFYOl-Rw",
        "colab_type": "code",
        "outputId": "33d40a7e-525d-414f-d55b-47ca45142188",
        "colab": {
          "base_uri": "https://localhost:8080/",
          "height": 34
        }
      },
      "source": [
        "tfidf_score = TfidfVectorizer(sublinear_tf=True, min_df=5,ngram_range=(1, 2), stop_words='english')\n",
        "\n",
        "# Transforming complaint into a vector\n",
        "features = tfidf_score.fit_transform(df2.Complaint).toarray()\n",
        "\n",
        "labels = df2.CategoryId\n",
        "\n",
        "print(\"Every sample (%d) complaints is represented by %d features (TF-IDF score of unigrams and bigrams)\" %(features.shape))"
      ],
      "execution_count": 0,
      "outputs": [
        {
          "output_type": "stream",
          "text": [
            "Every sample (10000) complaints is represented by 27614 features (TF-IDF score of unigrams and bigrams)\n"
          ],
          "name": "stdout"
        }
      ]
    },
    {
      "cell_type": "code",
      "metadata": {
        "id": "qRzNfg4OmPHL",
        "colab_type": "code",
        "outputId": "fe054994-d3ce-4c8e-a08b-253092df8b42",
        "colab": {
          "base_uri": "https://localhost:8080/",
          "height": 901
        }
      },
      "source": [
        "# Three most correlated terms in each of the product categories\n",
        "N = 3\n",
        "for Product, CategoryId in sorted(category_to_id.items()):\n",
        "  features_chi2 = chi2(features, labels == CategoryId)\n",
        "  indices = np.argsort(features_chi2[0])\n",
        "  feature_names = np.array(tfidf_score.get_feature_names())[indices]\n",
        "\n",
        "  unigrams = [v for v in feature_names if len(v.split(' ')) == 1]\n",
        "  bigrams = [v for v in feature_names if len(v.split(' ')) == 2]\n",
        "\n",
        "  print(\"\\n==> %s:\" %(Product))\n",
        "  print(\"  # Top Correlated Unigrams are: %s\" %(', '.join(unigrams[-N:])))\n",
        "  print(\"  # Top Correlated Bigrams are: %s\" %(', '.join(bigrams[-N:])))"
      ],
      "execution_count": 0,
      "outputs": [
        {
          "output_type": "stream",
          "text": [
            "\n",
            "==> Bank account or service:\n",
            "  # Top Correlated Unigrams are: checking, citigold, overdraft\n",
            "  # Top Correlated Bigrams are: overdraft fees, citigold checking, checking account\n",
            "\n",
            "==> Checking or savings account:\n",
            "  # Top Correlated Unigrams are: bank, atm, deposit\n",
            "  # Top Correlated Bigrams are: savings account, debit card, checking account\n",
            "\n",
            "==> Consumer Loan:\n",
            "  # Top Correlated Unigrams are: car, ally, vehicle\n",
            "  # Top Correlated Bigrams are: loan charged, hyundai motor, motor finance\n",
            "\n",
            "==> Credit card or prepaid card:\n",
            "  # Top Correlated Unigrams are: capital, express, card\n",
            "  # Top Correlated Bigrams are: balance transfer, american express, credit card\n",
            "\n",
            "==> Credit reporting, repair, or other:\n",
            "  # Top Correlated Unigrams are: report, experian, equifax\n",
            "  # Top Correlated Bigrams are: xxxx experian, credit file, credit report\n",
            "\n",
            "==> Debt collection:\n",
            "  # Top Correlated Unigrams are: collect, collection, debt\n",
            "  # Top Correlated Bigrams are: debt collection, collection agency, collect debt\n",
            "\n",
            "==> Money transfer, virtual currency, or money service:\n",
            "  # Top Correlated Unigrams are: bitcoin, wire, coinbase\n",
            "  # Top Correlated Bigrams are: wire transfer, xxxx coinbase, account coinbase\n",
            "\n",
            "==> Money transfers:\n",
            "  # Top Correlated Unigrams are: receiver, wu, western\n",
            "  # Top Correlated Bigrams are: money transfer, money gram, western union\n",
            "\n",
            "==> Mortgage:\n",
            "  # Top Correlated Unigrams are: escrow, modification, mortgage\n",
            "  # Top Correlated Bigrams are: mortgage company, short sale, loan modification\n",
            "\n",
            "==> Other financial service:\n",
            "  # Top Correlated Unigrams are: productive, ace, vast\n",
            "  # Top Correlated Bigrams are: days months, months service, repair credit\n",
            "\n",
            "==> Payday loan, title loan, or personal loan:\n",
            "  # Top Correlated Unigrams are: picture, borrowed, payday\n",
            "  # Top Correlated Bigrams are: payday loan, big picture, picture loans\n",
            "\n",
            "==> Student loan:\n",
            "  # Top Correlated Unigrams are: loans, student, navient\n",
            "  # Top Correlated Bigrams are: income based, student loan, student loans\n",
            "\n",
            "==> Vehicle loan or lease:\n",
            "  # Top Correlated Unigrams are: toyota, vehicle, car\n",
            "  # Top Correlated Bigrams are: said car, repossess car, toyota financial\n"
          ],
          "name": "stdout"
        }
      ]
    },
    {
      "cell_type": "code",
      "metadata": {
        "id": "1RJaXomUmeiP",
        "colab_type": "code",
        "colab": {}
      },
      "source": [
        "X = df2['Complaint'] # Collection of documents\n",
        "y = df2['Product'] # Target or the labels we want to predict (i.e., the 13 different complaints of products)\n",
        "\n",
        "X_train, X_test, y_train, y_test = train_test_split(X, y, test_size=0.25, random_state = 0)"
      ],
      "execution_count": 0,
      "outputs": []
    },
    {
      "cell_type": "code",
      "metadata": {
        "id": "ViOWZZRkmkyt",
        "colab_type": "code",
        "outputId": "68fcf657-4b55-4653-d4f1-2e27fc4912e2",
        "colab": {
          "base_uri": "https://localhost:8080/",
          "height": 697
        }
      },
      "source": [
        "models = [\n",
        "    RandomForestClassifier(n_estimators=100, max_depth=5, random_state=0),\n",
        "    LinearSVC(),\n",
        "    MultinomialNB(),\n",
        "    LogisticRegression(random_state=0),\n",
        "]\n",
        "\n",
        "# 5 Cross-validation\n",
        "CV = 5\n",
        "cv_df = pd.DataFrame(index=range(CV * len(models)))\n",
        "\n",
        "entries = []\n",
        "for model in models:\n",
        "  Model_Name = model.__class__.__name__\n",
        "  accuracies = cross_val_score(model, features, labels, scoring='accuracy', cv=CV)\n",
        "  for fold_idx, accuracy in enumerate(accuracies):\n",
        "    entries.append((Model_Name, fold_idx, accuracy))\n",
        "    \n",
        "cv_df = pd.DataFrame(entries, columns=['Model_Name', 'fold_idx', 'accuracy'])"
      ],
      "execution_count": 0,
      "outputs": [
        {
          "output_type": "stream",
          "text": [
            "/usr/local/lib/python3.6/dist-packages/sklearn/linear_model/_logistic.py:940: ConvergenceWarning: lbfgs failed to converge (status=1):\n",
            "STOP: TOTAL NO. of ITERATIONS REACHED LIMIT.\n",
            "\n",
            "Increase the number of iterations (max_iter) or scale the data as shown in:\n",
            "    https://scikit-learn.org/stable/modules/preprocessing.html\n",
            "Please also refer to the documentation for alternative solver options:\n",
            "    https://scikit-learn.org/stable/modules/linear_model.html#logistic-regression\n",
            "  extra_warning_msg=_LOGISTIC_SOLVER_CONVERGENCE_MSG)\n",
            "/usr/local/lib/python3.6/dist-packages/sklearn/linear_model/_logistic.py:940: ConvergenceWarning: lbfgs failed to converge (status=1):\n",
            "STOP: TOTAL NO. of ITERATIONS REACHED LIMIT.\n",
            "\n",
            "Increase the number of iterations (max_iter) or scale the data as shown in:\n",
            "    https://scikit-learn.org/stable/modules/preprocessing.html\n",
            "Please also refer to the documentation for alternative solver options:\n",
            "    https://scikit-learn.org/stable/modules/linear_model.html#logistic-regression\n",
            "  extra_warning_msg=_LOGISTIC_SOLVER_CONVERGENCE_MSG)\n",
            "/usr/local/lib/python3.6/dist-packages/sklearn/linear_model/_logistic.py:940: ConvergenceWarning: lbfgs failed to converge (status=1):\n",
            "STOP: TOTAL NO. of ITERATIONS REACHED LIMIT.\n",
            "\n",
            "Increase the number of iterations (max_iter) or scale the data as shown in:\n",
            "    https://scikit-learn.org/stable/modules/preprocessing.html\n",
            "Please also refer to the documentation for alternative solver options:\n",
            "    https://scikit-learn.org/stable/modules/linear_model.html#logistic-regression\n",
            "  extra_warning_msg=_LOGISTIC_SOLVER_CONVERGENCE_MSG)\n",
            "/usr/local/lib/python3.6/dist-packages/sklearn/linear_model/_logistic.py:940: ConvergenceWarning: lbfgs failed to converge (status=1):\n",
            "STOP: TOTAL NO. of ITERATIONS REACHED LIMIT.\n",
            "\n",
            "Increase the number of iterations (max_iter) or scale the data as shown in:\n",
            "    https://scikit-learn.org/stable/modules/preprocessing.html\n",
            "Please also refer to the documentation for alternative solver options:\n",
            "    https://scikit-learn.org/stable/modules/linear_model.html#logistic-regression\n",
            "  extra_warning_msg=_LOGISTIC_SOLVER_CONVERGENCE_MSG)\n",
            "/usr/local/lib/python3.6/dist-packages/sklearn/linear_model/_logistic.py:940: ConvergenceWarning: lbfgs failed to converge (status=1):\n",
            "STOP: TOTAL NO. of ITERATIONS REACHED LIMIT.\n",
            "\n",
            "Increase the number of iterations (max_iter) or scale the data as shown in:\n",
            "    https://scikit-learn.org/stable/modules/preprocessing.html\n",
            "Please also refer to the documentation for alternative solver options:\n",
            "    https://scikit-learn.org/stable/modules/linear_model.html#logistic-regression\n",
            "  extra_warning_msg=_LOGISTIC_SOLVER_CONVERGENCE_MSG)\n"
          ],
          "name": "stderr"
        }
      ]
    },
    {
      "cell_type": "code",
      "metadata": {
        "id": "2uCNZvAOtMj3",
        "colab_type": "code",
        "outputId": "d4f1a846-5fee-46f0-eafe-7b2681955af9",
        "colab": {
          "base_uri": "https://localhost:8080/",
          "height": 204
        }
      },
      "source": [
        "mean_accuracy = cv_df.groupby('Model_Name').accuracy.mean()\n",
        "std_accuracy = cv_df.groupby('Model_Name').accuracy.std()\n",
        "acc = pd.concat([mean_accuracy, std_accuracy], axis= 1, ignore_index=True)\n",
        "acc.columns = ['Mean Accuracy', 'Standard deviation']\n",
        "acc"
      ],
      "execution_count": 0,
      "outputs": [
        {
          "output_type": "execute_result",
          "data": {
            "text/html": [
              "<div>\n",
              "<style scoped>\n",
              "    .dataframe tbody tr th:only-of-type {\n",
              "        vertical-align: middle;\n",
              "    }\n",
              "\n",
              "    .dataframe tbody tr th {\n",
              "        vertical-align: top;\n",
              "    }\n",
              "\n",
              "    .dataframe thead th {\n",
              "        text-align: right;\n",
              "    }\n",
              "</style>\n",
              "<table border=\"1\" class=\"dataframe\">\n",
              "  <thead>\n",
              "    <tr style=\"text-align: right;\">\n",
              "      <th></th>\n",
              "      <th>Mean Accuracy</th>\n",
              "      <th>Standard deviation</th>\n",
              "    </tr>\n",
              "    <tr>\n",
              "      <th>Model_Name</th>\n",
              "      <th></th>\n",
              "      <th></th>\n",
              "    </tr>\n",
              "  </thead>\n",
              "  <tbody>\n",
              "    <tr>\n",
              "      <th>LinearSVC</th>\n",
              "      <td>0.7807</td>\n",
              "      <td>0.004791</td>\n",
              "    </tr>\n",
              "    <tr>\n",
              "      <th>LogisticRegression</th>\n",
              "      <td>0.7633</td>\n",
              "      <td>0.005574</td>\n",
              "    </tr>\n",
              "    <tr>\n",
              "      <th>MultinomialNB</th>\n",
              "      <td>0.6385</td>\n",
              "      <td>0.007616</td>\n",
              "    </tr>\n",
              "    <tr>\n",
              "      <th>RandomForestClassifier</th>\n",
              "      <td>0.3813</td>\n",
              "      <td>0.002775</td>\n",
              "    </tr>\n",
              "  </tbody>\n",
              "</table>\n",
              "</div>"
            ],
            "text/plain": [
              "                        Mean Accuracy  Standard deviation\n",
              "Model_Name                                               \n",
              "LinearSVC                      0.7807            0.004791\n",
              "LogisticRegression             0.7633            0.005574\n",
              "MultinomialNB                  0.6385            0.007616\n",
              "RandomForestClassifier         0.3813            0.002775"
            ]
          },
          "metadata": {
            "tags": []
          },
          "execution_count": 16
        }
      ]
    },
    {
      "cell_type": "code",
      "metadata": {
        "id": "zxdTPyqxuIin",
        "colab_type": "code",
        "outputId": "9166cb14-8dc6-4cba-ad54-bde0a5037f8c",
        "colab": {
          "base_uri": "https://localhost:8080/",
          "height": 366
        }
      },
      "source": [
        "plt.figure(figsize=(8,5))\n",
        "sns.boxplot(x='Model_Name', y='accuracy', \n",
        "            data=cv_df, \n",
        "            color='lightgreen', \n",
        "            showmeans=True)\n",
        "plt.title(\"MEAN ACCURACY with Cross validation = 5\\n\", size=12);"
      ],
      "execution_count": 0,
      "outputs": [
        {
          "output_type": "display_data",
          "data": {
            "image/png": "[encoded data removed]",
            "text/plain": [
              "<Figure size 576x360 with 1 Axes>"
            ]
          },
          "metadata": {
            "tags": [],
            "needs_background": "light"
          }
        }
      ]
    },
    {
      "cell_type": "code",
      "metadata": {
        "id": "Uhdx2qlVuLrc",
        "colab_type": "code",
        "colab": {}
      },
      "source": [
        "X_train, X_test, y_train, y_test,indices_train,indices_test = train_test_split(features, \n",
        "                                                               labels, \n",
        "                                                               df2.index, test_size=0.25, \n",
        "                                                               random_state=1)\n",
        "model = LinearSVC()\n",
        "model.fit(X_train, y_train)\n",
        "y_pred = model.predict(X_test)"
      ],
      "execution_count": 0,
      "outputs": []
    },
    {
      "cell_type": "code",
      "metadata": {
        "id": "C9IV-TvmuOmA",
        "colab_type": "code",
        "outputId": "ab60a0e6-29c4-420f-a58d-770d84c105b6",
        "colab": {
          "base_uri": "https://localhost:8080/",
          "height": 445
        }
      },
      "source": [
        "# Classification report\n",
        "print('\\t\\t\\t\\tCLASSIFICATIION METRICS\\n')\n",
        "print(metrics.classification_report(y_test, y_pred, \n",
        "                                    target_names= df2['Product'].unique()))"
      ],
      "execution_count": 0,
      "outputs": [
        {
          "output_type": "stream",
          "text": [
            "\t\t\t\tCLASSIFICATIION METRICS\n",
            "\n",
            "                                                    precision    recall  f1-score   support\n",
            "\n",
            "                                   Debt collection       0.77      0.82      0.79       557\n",
            "                                      Student loan       0.79      0.73      0.76       116\n",
            "                       Checking or savings account       0.51      0.54      0.53        83\n",
            "                                     Consumer Loan       0.33      0.17      0.22        60\n",
            "                                          Mortgage       0.84      0.94      0.89       309\n",
            "                       Credit card or prepaid card       0.78      0.80      0.79       305\n",
            "                Credit reporting, repair, or other       0.82      0.88      0.85       841\n",
            "                             Vehicle loan or lease       0.56      0.30      0.39        47\n",
            "Money transfer, virtual currency, or money service       0.87      0.50      0.63        40\n",
            "                           Bank account or service       0.58      0.39      0.46        85\n",
            "         Payday loan, title loan, or personal loan       0.47      0.19      0.27        37\n",
            "                                   Money transfers       0.86      0.43      0.57        14\n",
            "                           Other financial service       0.00      0.00      0.00         6\n",
            "\n",
            "                                          accuracy                           0.78      2500\n",
            "                                         macro avg       0.63      0.51      0.55      2500\n",
            "                                      weighted avg       0.76      0.78      0.77      2500\n",
            "\n"
          ],
          "name": "stdout"
        },
        {
          "output_type": "stream",
          "text": [
            "/usr/local/lib/python3.6/dist-packages/sklearn/metrics/_classification.py:1272: UndefinedMetricWarning: Precision and F-score are ill-defined and being set to 0.0 in labels with no predicted samples. Use `zero_division` parameter to control this behavior.\n",
            "  _warn_prf(average, modifier, msg_start, len(result))\n"
          ],
          "name": "stderr"
        }
      ]
    },
    {
      "cell_type": "code",
      "metadata": {
        "id": "OI1u5Ib3uUcU",
        "colab_type": "code",
        "outputId": "d0669f04-3674-4415-8917-2c2c3c7fb516",
        "colab": {
          "base_uri": "https://localhost:8080/",
          "height": 773
        }
      },
      "source": [
        "conf_mat = confusion_matrix(y_test, y_pred)\n",
        "fig, ax = plt.subplots(figsize=(8,8))\n",
        "sns.heatmap(conf_mat, annot=True, cmap=\"Greens\", fmt='d',\n",
        "            xticklabels=category_id_df.Product.values, \n",
        "            yticklabels=category_id_df.Product.values)\n",
        "plt.ylabel('Actual Values')\n",
        "plt.xlabel('Predicted Values')\n",
        "plt.title(\"Confusion matrix of Linear SVC\\n\", size=14);"
      ],
      "execution_count": 0,
      "outputs": [
        {
          "output_type": "display_data",
          "data": {
            "image/png": "[encoded data removed]",
            "text/plain": [
              "<Figure size 576x576 with 2 Axes>"
            ]
          },
          "metadata": {
            "tags": [],
            "needs_background": "light"
          }
        }
      ]
    },
    {
      "cell_type": "code",
      "metadata": {
        "id": "tqGxpkOpuVcr",
        "colab_type": "code",
        "outputId": "d199c5db-9d62-4ed5-ab96-429288c8e4e0",
        "colab": {
          "base_uri": "https://localhost:8080/",
          "height": 1000
        }
      },
      "source": [
        "for predicted in category_id_df.CategoryId:\n",
        "  for actual in category_id_df.CategoryId:\n",
        "    if predicted != actual and conf_mat[actual, predicted] >= 20:\n",
        "      print(\"'{}' predicted as '{}' : {} examples.\".format(id_to_category[actual], \n",
        "                                                           id_to_category[predicted], \n",
        "                                                           conf_mat[actual, predicted]))\n",
        "    \n",
        "      display(df2.loc[indices_test[(y_test == actual) & (y_pred == predicted)]][['Product', \n",
        "                                                                'Complaint']])\n",
        "      print('')"
      ],
      "execution_count": 0,
      "outputs": [
        {
          "output_type": "stream",
          "text": [
            "'Credit reporting, repair, or other' predicted as 'Debt collection' : 55 examples.\n"
          ],
          "name": "stdout"
        },
        {
          "output_type": "display_data",
          "data": {
            "text/html": [
              "<div>\n",
              "<style scoped>\n",
              "    .dataframe tbody tr th:only-of-type {\n",
              "        vertical-align: middle;\n",
              "    }\n",
              "\n",
              "    .dataframe tbody tr th {\n",
              "        vertical-align: top;\n",
              "    }\n",
              "\n",
              "    .dataframe thead th {\n",
              "        text-align: right;\n",
              "    }\n",
              "</style>\n",
              "<table border=\"1\" class=\"dataframe\">\n",
              "  <thead>\n",
              "    <tr style=\"text-align: right;\">\n",
              "      <th></th>\n",
              "      <th>Product</th>\n",
              "      <th>Complaint</th>\n",
              "    </tr>\n",
              "  </thead>\n",
              "  <tbody>\n",
              "    <tr>\n",
              "      <th>530285</th>\n",
              "      <td>Credit reporting, repair, or other</td>\n",
              "      <td>This is regarding an adverse account item logg...</td>\n",
              "    </tr>\n",
              "    <tr>\n",
              "      <th>187680</th>\n",
              "      <td>Credit reporting, repair, or other</td>\n",
              "      <td>XXXX XXXX XXXX XXXX has violated x 15 USC 1692...</td>\n",
              "    </tr>\n",
              "    <tr>\n",
              "      <th>255990</th>\n",
              "      <td>Credit reporting, repair, or other</td>\n",
              "      <td>I disputed an acct that is illegally being rep...</td>\n",
              "    </tr>\n",
              "    <tr>\n",
              "      <th>767126</th>\n",
              "      <td>Credit reporting, repair, or other</td>\n",
              "      <td>Wrong Information on my Credit</td>\n",
              "    </tr>\n",
              "    <tr>\n",
              "      <th>130812</th>\n",
              "      <td>Credit reporting, repair, or other</td>\n",
              "      <td>Emergency room visit year XX/XX/2012. I was un...</td>\n",
              "    </tr>\n",
              "    <tr>\n",
              "      <th>961806</th>\n",
              "      <td>Credit reporting, repair, or other</td>\n",
              "      <td>Well, 4-5 years ago I had cable XXXX and alway...</td>\n",
              "    </tr>\n",
              "    <tr>\n",
              "      <th>959553</th>\n",
              "      <td>Credit reporting, repair, or other</td>\n",
              "      <td>On my credit report. It says I owe XXXX to som...</td>\n",
              "    </tr>\n",
              "    <tr>\n",
              "      <th>569822</th>\n",
              "      <td>Credit reporting, repair, or other</td>\n",
              "      <td>XXXX XXXX XXXX XXXX has invaded my credit repo...</td>\n",
              "    </tr>\n",
              "    <tr>\n",
              "      <th>333919</th>\n",
              "      <td>Credit reporting, repair, or other</td>\n",
              "      <td>The referenced collection agency has violated ...</td>\n",
              "    </tr>\n",
              "    <tr>\n",
              "      <th>673989</th>\n",
              "      <td>Credit reporting, repair, or other</td>\n",
              "      <td>I went to buy a house ... ... ... .My credit r...</td>\n",
              "    </tr>\n",
              "    <tr>\n",
              "      <th>160191</th>\n",
              "      <td>Credit reporting, repair, or other</td>\n",
              "      <td>I contacted Midland funding and requested debt...</td>\n",
              "    </tr>\n",
              "    <tr>\n",
              "      <th>169040</th>\n",
              "      <td>Credit reporting, repair, or other</td>\n",
              "      <td>XXXX XXXX XXXX  is reporting an erroneous bala...</td>\n",
              "    </tr>\n",
              "    <tr>\n",
              "      <th>647439</th>\n",
              "      <td>Credit reporting, repair, or other</td>\n",
              "      <td>I sent to the credit company a demand letter a...</td>\n",
              "    </tr>\n",
              "    <tr>\n",
              "      <th>183844</th>\n",
              "      <td>Credit reporting, repair, or other</td>\n",
              "      <td>The below is the summary of facts that my husb...</td>\n",
              "    </tr>\n",
              "    <tr>\n",
              "      <th>276023</th>\n",
              "      <td>Credit reporting, repair, or other</td>\n",
              "      <td>Due to some uncontrollable circumstances, I ha...</td>\n",
              "    </tr>\n",
              "    <tr>\n",
              "      <th>459608</th>\n",
              "      <td>Credit reporting, repair, or other</td>\n",
              "      <td>I received financing from Tower Loan to purcha...</td>\n",
              "    </tr>\n",
              "    <tr>\n",
              "      <th>691304</th>\n",
              "      <td>Credit reporting, repair, or other</td>\n",
              "      <td>Somehow its showing that I have an debt with a...</td>\n",
              "    </tr>\n",
              "    <tr>\n",
              "      <th>389724</th>\n",
              "      <td>Credit reporting, repair, or other</td>\n",
              "      <td>a check for a co pay of XXXX was sent to hospi...</td>\n",
              "    </tr>\n",
              "    <tr>\n",
              "      <th>965072</th>\n",
              "      <td>Credit reporting, repair, or other</td>\n",
              "      <td>Had difficulty filing dispute with EquifaxPaid...</td>\n",
              "    </tr>\n",
              "    <tr>\n",
              "      <th>1000439</th>\n",
              "      <td>Credit reporting, repair, or other</td>\n",
              "      <td>I tried to open an account with XXXX and I was...</td>\n",
              "    </tr>\n",
              "    <tr>\n",
              "      <th>49883</th>\n",
              "      <td>Credit reporting, repair, or other</td>\n",
              "      <td>I have contacted community bank regarding the ...</td>\n",
              "    </tr>\n",
              "    <tr>\n",
              "      <th>607168</th>\n",
              "      <td>Credit reporting, repair, or other</td>\n",
              "      <td>I was taken to  XXXX  hospital after telling a...</td>\n",
              "    </tr>\n",
              "    <tr>\n",
              "      <th>270325</th>\n",
              "      <td>Credit reporting, repair, or other</td>\n",
              "      <td>In XX/XX/2018 I sent proof that my account had...</td>\n",
              "    </tr>\n",
              "    <tr>\n",
              "      <th>662364</th>\n",
              "      <td>Credit reporting, repair, or other</td>\n",
              "      <td>Did n't verify collection, no contract, no sig...</td>\n",
              "    </tr>\n",
              "    <tr>\n",
              "      <th>908451</th>\n",
              "      <td>Credit reporting, repair, or other</td>\n",
              "      <td>I was involved in a small fender bender while ...</td>\n",
              "    </tr>\n",
              "    <tr>\n",
              "      <th>513945</th>\n",
              "      <td>Credit reporting, repair, or other</td>\n",
              "      <td>The debt from the Afni debt collector is not m...</td>\n",
              "    </tr>\n",
              "    <tr>\n",
              "      <th>960906</th>\n",
              "      <td>Credit reporting, repair, or other</td>\n",
              "      <td>I had my son in a daycare called the XXXX XXXX...</td>\n",
              "    </tr>\n",
              "    <tr>\n",
              "      <th>1968</th>\n",
              "      <td>Credit reporting, repair, or other</td>\n",
              "      <td>TransUnion is continuing to report a claim of ...</td>\n",
              "    </tr>\n",
              "    <tr>\n",
              "      <th>955351</th>\n",
              "      <td>Credit reporting, repair, or other</td>\n",
              "      <td>equifaxXXXX XXXX XXXXstatus showing collection...</td>\n",
              "    </tr>\n",
              "    <tr>\n",
              "      <th>261315</th>\n",
              "      <td>Credit reporting, repair, or other</td>\n",
              "      <td>I have disputed the collection account from ''...</td>\n",
              "    </tr>\n",
              "    <tr>\n",
              "      <th>587815</th>\n",
              "      <td>Credit reporting, repair, or other</td>\n",
              "      <td>Portfolio Recovery keeps reviving an account f...</td>\n",
              "    </tr>\n",
              "    <tr>\n",
              "      <th>399908</th>\n",
              "      <td>Credit reporting, repair, or other</td>\n",
              "      <td>Date : XX/XX/2016 Balance : {$650.00} Company ...</td>\n",
              "    </tr>\n",
              "    <tr>\n",
              "      <th>347114</th>\n",
              "      <td>Credit reporting, repair, or other</td>\n",
              "      <td>I have filed an Identity Theft Report with the...</td>\n",
              "    </tr>\n",
              "    <tr>\n",
              "      <th>96925</th>\n",
              "      <td>Credit reporting, repair, or other</td>\n",
              "      <td>XXXX COMPANY DID INQUIRE WITHOUT MY AUTHORIZAT...</td>\n",
              "    </tr>\n",
              "    <tr>\n",
              "      <th>108706</th>\n",
              "      <td>Credit reporting, repair, or other</td>\n",
              "      <td>THIS IS A REQUEST FOR AFFIDAVIT [ s ] FROM THE...</td>\n",
              "    </tr>\n",
              "    <tr>\n",
              "      <th>148542</th>\n",
              "      <td>Credit reporting, repair, or other</td>\n",
              "      <td>XXXX is a utility company that I applied for o...</td>\n",
              "    </tr>\n",
              "    <tr>\n",
              "      <th>113140</th>\n",
              "      <td>Credit reporting, repair, or other</td>\n",
              "      <td>I have had this service for more the seven yea...</td>\n",
              "    </tr>\n",
              "    <tr>\n",
              "      <th>372186</th>\n",
              "      <td>Credit reporting, repair, or other</td>\n",
              "      <td>In XX/XX/XXXX, I checked my credit reports wit...</td>\n",
              "    </tr>\n",
              "    <tr>\n",
              "      <th>80757</th>\n",
              "      <td>Credit reporting, repair, or other</td>\n",
              "      <td>Upon retrieving my credit report I found that ...</td>\n",
              "    </tr>\n",
              "    <tr>\n",
              "      <th>271057</th>\n",
              "      <td>Credit reporting, repair, or other</td>\n",
              "      <td>I have disputed this account with Midland rega...</td>\n",
              "    </tr>\n",
              "    <tr>\n",
              "      <th>151754</th>\n",
              "      <td>Credit reporting, repair, or other</td>\n",
              "      <td>I was on my credit report online ( XXXX ) and ...</td>\n",
              "    </tr>\n",
              "    <tr>\n",
              "      <th>73421</th>\n",
              "      <td>Credit reporting, repair, or other</td>\n",
              "      <td>Im going to sum it up quickly I was a former e...</td>\n",
              "    </tr>\n",
              "    <tr>\n",
              "      <th>127609</th>\n",
              "      <td>Credit reporting, repair, or other</td>\n",
              "      <td>A very loud and rude threatening call several ...</td>\n",
              "    </tr>\n",
              "    <tr>\n",
              "      <th>356474</th>\n",
              "      <td>Credit reporting, repair, or other</td>\n",
              "      <td>I have reached out to the bureaus several time...</td>\n",
              "    </tr>\n",
              "    <tr>\n",
              "      <th>172777</th>\n",
              "      <td>Credit reporting, repair, or other</td>\n",
              "      <td>This is the third time I have requested actual...</td>\n",
              "    </tr>\n",
              "    <tr>\n",
              "      <th>480875</th>\n",
              "      <td>Credit reporting, repair, or other</td>\n",
              "      <td>I have a collection account on my credit repor...</td>\n",
              "    </tr>\n",
              "    <tr>\n",
              "      <th>330914</th>\n",
              "      <td>Credit reporting, repair, or other</td>\n",
              "      <td>I was alerted by XXXX XXXX that a collection a...</td>\n",
              "    </tr>\n",
              "    <tr>\n",
              "      <th>994317</th>\n",
              "      <td>Credit reporting, repair, or other</td>\n",
              "      <td>I was at my XXXX during 2012 and I XXXX. My Pr...</td>\n",
              "    </tr>\n",
              "    <tr>\n",
              "      <th>654521</th>\n",
              "      <td>Credit reporting, repair, or other</td>\n",
              "      <td>Approxamately 5 years and 6 months ago I rente...</td>\n",
              "    </tr>\n",
              "    <tr>\n",
              "      <th>606885</th>\n",
              "      <td>Credit reporting, repair, or other</td>\n",
              "      <td>Per the FTC the credit bureau 's have to provi...</td>\n",
              "    </tr>\n",
              "    <tr>\n",
              "      <th>398857</th>\n",
              "      <td>Credit reporting, repair, or other</td>\n",
              "      <td>On XX/XX/XXXX a Lawsuit was filed against me b...</td>\n",
              "    </tr>\n",
              "    <tr>\n",
              "      <th>113133</th>\n",
              "      <td>Credit reporting, repair, or other</td>\n",
              "      <td>My credit reports list monies owed to XXXX. I ...</td>\n",
              "    </tr>\n",
              "    <tr>\n",
              "      <th>303196</th>\n",
              "      <td>Credit reporting, repair, or other</td>\n",
              "      <td>I recently paid off a balance owed to XXXX XXX...</td>\n",
              "    </tr>\n",
              "    <tr>\n",
              "      <th>404306</th>\n",
              "      <td>Credit reporting, repair, or other</td>\n",
              "      <td>In 2015 I attempted to purchase a Time Share f...</td>\n",
              "    </tr>\n",
              "    <tr>\n",
              "      <th>639309</th>\n",
              "      <td>Credit reporting, repair, or other</td>\n",
              "      <td>1 account is not mine 2 accounts I did not acc...</td>\n",
              "    </tr>\n",
              "  </tbody>\n",
              "</table>\n",
              "</div>"
            ],
            "text/plain": [
              "                                    Product                                          Complaint\n",
              "530285   Credit reporting, repair, or other  This is regarding an adverse account item logg...\n",
              "187680   Credit reporting, repair, or other  XXXX XXXX XXXX XXXX has violated x 15 USC 1692...\n",
              "255990   Credit reporting, repair, or other  I disputed an acct that is illegally being rep...\n",
              "767126   Credit reporting, repair, or other                     Wrong Information on my Credit\n",
              "130812   Credit reporting, repair, or other  Emergency room visit year XX/XX/2012. I was un...\n",
              "961806   Credit reporting, repair, or other  Well, 4-5 years ago I had cable XXXX and alway...\n",
              "959553   Credit reporting, repair, or other  On my credit report. It says I owe XXXX to som...\n",
              "569822   Credit reporting, repair, or other  XXXX XXXX XXXX XXXX has invaded my credit repo...\n",
              "333919   Credit reporting, repair, or other  The referenced collection agency has violated ...\n",
              "673989   Credit reporting, repair, or other  I went to buy a house ... ... ... .My credit r...\n",
              "160191   Credit reporting, repair, or other  I contacted Midland funding and requested debt...\n",
              "169040   Credit reporting, repair, or other  XXXX XXXX XXXX  is reporting an erroneous bala...\n",
              "647439   Credit reporting, repair, or other  I sent to the credit company a demand letter a...\n",
              "183844   Credit reporting, repair, or other  The below is the summary of facts that my husb...\n",
              "276023   Credit reporting, repair, or other  Due to some uncontrollable circumstances, I ha...\n",
              "459608   Credit reporting, repair, or other  I received financing from Tower Loan to purcha...\n",
              "691304   Credit reporting, repair, or other  Somehow its showing that I have an debt with a...\n",
              "389724   Credit reporting, repair, or other  a check for a co pay of XXXX was sent to hospi...\n",
              "965072   Credit reporting, repair, or other  Had difficulty filing dispute with EquifaxPaid...\n",
              "1000439  Credit reporting, repair, or other  I tried to open an account with XXXX and I was...\n",
              "49883    Credit reporting, repair, or other  I have contacted community bank regarding the ...\n",
              "607168   Credit reporting, repair, or other  I was taken to  XXXX  hospital after telling a...\n",
              "270325   Credit reporting, repair, or other  In XX/XX/2018 I sent proof that my account had...\n",
              "662364   Credit reporting, repair, or other  Did n't verify collection, no contract, no sig...\n",
              "908451   Credit reporting, repair, or other  I was involved in a small fender bender while ...\n",
              "513945   Credit reporting, repair, or other  The debt from the Afni debt collector is not m...\n",
              "960906   Credit reporting, repair, or other  I had my son in a daycare called the XXXX XXXX...\n",
              "1968     Credit reporting, repair, or other  TransUnion is continuing to report a claim of ...\n",
              "955351   Credit reporting, repair, or other  equifaxXXXX XXXX XXXXstatus showing collection...\n",
              "261315   Credit reporting, repair, or other  I have disputed the collection account from ''...\n",
              "587815   Credit reporting, repair, or other  Portfolio Recovery keeps reviving an account f...\n",
              "399908   Credit reporting, repair, or other  Date : XX/XX/2016 Balance : {$650.00} Company ...\n",
              "347114   Credit reporting, repair, or other  I have filed an Identity Theft Report with the...\n",
              "96925    Credit reporting, repair, or other  XXXX COMPANY DID INQUIRE WITHOUT MY AUTHORIZAT...\n",
              "108706   Credit reporting, repair, or other  THIS IS A REQUEST FOR AFFIDAVIT [ s ] FROM THE...\n",
              "148542   Credit reporting, repair, or other  XXXX is a utility company that I applied for o...\n",
              "113140   Credit reporting, repair, or other  I have had this service for more the seven yea...\n",
              "372186   Credit reporting, repair, or other  In XX/XX/XXXX, I checked my credit reports wit...\n",
              "80757    Credit reporting, repair, or other  Upon retrieving my credit report I found that ...\n",
              "271057   Credit reporting, repair, or other  I have disputed this account with Midland rega...\n",
              "151754   Credit reporting, repair, or other  I was on my credit report online ( XXXX ) and ...\n",
              "73421    Credit reporting, repair, or other  Im going to sum it up quickly I was a former e...\n",
              "127609   Credit reporting, repair, or other  A very loud and rude threatening call several ...\n",
              "356474   Credit reporting, repair, or other  I have reached out to the bureaus several time...\n",
              "172777   Credit reporting, repair, or other  This is the third time I have requested actual...\n",
              "480875   Credit reporting, repair, or other  I have a collection account on my credit repor...\n",
              "330914   Credit reporting, repair, or other  I was alerted by XXXX XXXX that a collection a...\n",
              "994317   Credit reporting, repair, or other  I was at my XXXX during 2012 and I XXXX. My Pr...\n",
              "654521   Credit reporting, repair, or other  Approxamately 5 years and 6 months ago I rente...\n",
              "606885   Credit reporting, repair, or other  Per the FTC the credit bureau 's have to provi...\n",
              "398857   Credit reporting, repair, or other  On XX/XX/XXXX a Lawsuit was filed against me b...\n",
              "113133   Credit reporting, repair, or other  My credit reports list monies owed to XXXX. I ...\n",
              "303196   Credit reporting, repair, or other  I recently paid off a balance owed to XXXX XXX...\n",
              "404306   Credit reporting, repair, or other  In 2015 I attempted to purchase a Time Share f...\n",
              "639309   Credit reporting, repair, or other  1 account is not mine 2 accounts I did not acc..."
            ]
          },
          "metadata": {
            "tags": []
          }
        },
        {
          "output_type": "stream",
          "text": [
            "\n",
            "'Bank account or service' predicted as 'Checking or savings account' : 28 examples.\n"
          ],
          "name": "stdout"
        },
        {
          "output_type": "display_data",
          "data": {
            "text/html": [
              "<div>\n",
              "<style scoped>\n",
              "    .dataframe tbody tr th:only-of-type {\n",
              "        vertical-align: middle;\n",
              "    }\n",
              "\n",
              "    .dataframe tbody tr th {\n",
              "        vertical-align: top;\n",
              "    }\n",
              "\n",
              "    .dataframe thead th {\n",
              "        text-align: right;\n",
              "    }\n",
              "</style>\n",
              "<table border=\"1\" class=\"dataframe\">\n",
              "  <thead>\n",
              "    <tr style=\"text-align: right;\">\n",
              "      <th></th>\n",
              "      <th>Product</th>\n",
              "      <th>Complaint</th>\n",
              "    </tr>\n",
              "  </thead>\n",
              "  <tbody>\n",
              "    <tr>\n",
              "      <th>739529</th>\n",
              "      <td>Bank account or service</td>\n",
              "      <td>I recall seeing statements from Wells Fargo bu...</td>\n",
              "    </tr>\n",
              "    <tr>\n",
              "      <th>813086</th>\n",
              "      <td>Bank account or service</td>\n",
              "      <td>I had an insured money director account in XXX...</td>\n",
              "    </tr>\n",
              "    <tr>\n",
              "      <th>894764</th>\n",
              "      <td>Bank account or service</td>\n",
              "      <td>I 'm XXXX and XXXX and XXXX and also will be f...</td>\n",
              "    </tr>\n",
              "    <tr>\n",
              "      <th>688817</th>\n",
              "      <td>Bank account or service</td>\n",
              "      <td>I closed XXXX accounts with my bank when I mov...</td>\n",
              "    </tr>\n",
              "    <tr>\n",
              "      <th>886894</th>\n",
              "      <td>Bank account or service</td>\n",
              "      <td>There is an ongoing dispute between myself and...</td>\n",
              "    </tr>\n",
              "    <tr>\n",
              "      <th>781571</th>\n",
              "      <td>Bank account or service</td>\n",
              "      <td>Wells Fargo 's last letter to me stated that I...</td>\n",
              "    </tr>\n",
              "    <tr>\n",
              "      <th>875623</th>\n",
              "      <td>Bank account or service</td>\n",
              "      <td>I am unable to open a checking account in the ...</td>\n",
              "    </tr>\n",
              "    <tr>\n",
              "      <th>764321</th>\n",
              "      <td>Bank account or service</td>\n",
              "      <td>On XXXX/XXXX/XXXX I received a deposit refund ...</td>\n",
              "    </tr>\n",
              "    <tr>\n",
              "      <th>639875</th>\n",
              "      <td>Bank account or service</td>\n",
              "      <td>XXXX Re your inquiry for more information, i h...</td>\n",
              "    </tr>\n",
              "    <tr>\n",
              "      <th>722680</th>\n",
              "      <td>Bank account or service</td>\n",
              "      <td>Without notifying me, BBVA Compass closed both...</td>\n",
              "    </tr>\n",
              "    <tr>\n",
              "      <th>901574</th>\n",
              "      <td>Bank account or service</td>\n",
              "      <td>I have had issues with my Scottrade Bank accou...</td>\n",
              "    </tr>\n",
              "    <tr>\n",
              "      <th>734871</th>\n",
              "      <td>Bank account or service</td>\n",
              "      <td>Wells Fargo has a published policy about funds...</td>\n",
              "    </tr>\n",
              "    <tr>\n",
              "      <th>929303</th>\n",
              "      <td>Bank account or service</td>\n",
              "      <td>I was scammed from the Internet of {$40000.00}...</td>\n",
              "    </tr>\n",
              "    <tr>\n",
              "      <th>644627</th>\n",
              "      <td>Bank account or service</td>\n",
              "      <td>I have had a checking account with Citibank fo...</td>\n",
              "    </tr>\n",
              "    <tr>\n",
              "      <th>668022</th>\n",
              "      <td>Bank account or service</td>\n",
              "      <td>I wrote a check to an individual on XXXX/XXXX/...</td>\n",
              "    </tr>\n",
              "    <tr>\n",
              "      <th>816202</th>\n",
              "      <td>Bank account or service</td>\n",
              "      <td>On Monday, XXXX XXXX, 2016 at XXXX I submitted...</td>\n",
              "    </tr>\n",
              "    <tr>\n",
              "      <th>789465</th>\n",
              "      <td>Bank account or service</td>\n",
              "      <td>My checking account currently has a block or r...</td>\n",
              "    </tr>\n",
              "    <tr>\n",
              "      <th>928112</th>\n",
              "      <td>Bank account or service</td>\n",
              "      <td>Charges from gas stations were are on my card ...</td>\n",
              "    </tr>\n",
              "    <tr>\n",
              "      <th>744518</th>\n",
              "      <td>Bank account or service</td>\n",
              "      <td>I opened an account at CASE, put in about {$10...</td>\n",
              "    </tr>\n",
              "    <tr>\n",
              "      <th>1004215</th>\n",
              "      <td>Bank account or service</td>\n",
              "      <td>Wells Fargo called me on XXXX/XXXX/2015 and to...</td>\n",
              "    </tr>\n",
              "    <tr>\n",
              "      <th>684106</th>\n",
              "      <td>Bank account or service</td>\n",
              "      <td>I have a checking account with Citibank, which...</td>\n",
              "    </tr>\n",
              "    <tr>\n",
              "      <th>699181</th>\n",
              "      <td>Bank account or service</td>\n",
              "      <td>I had an unauthorized withdrawal from my check...</td>\n",
              "    </tr>\n",
              "    <tr>\n",
              "      <th>825869</th>\n",
              "      <td>Bank account or service</td>\n",
              "      <td>I am on Social Security XXXX because of an XXX...</td>\n",
              "    </tr>\n",
              "    <tr>\n",
              "      <th>960654</th>\n",
              "      <td>Bank account or service</td>\n",
              "      <td>At horrible dual charging complaints against C...</td>\n",
              "    </tr>\n",
              "    <tr>\n",
              "      <th>662626</th>\n",
              "      <td>Bank account or service</td>\n",
              "      <td>I was hit with {$780.00} in over draft fees in...</td>\n",
              "    </tr>\n",
              "    <tr>\n",
              "      <th>906487</th>\n",
              "      <td>Bank account or service</td>\n",
              "      <td>I 've had a checking, savings, pre-paid cards ...</td>\n",
              "    </tr>\n",
              "    <tr>\n",
              "      <th>936741</th>\n",
              "      <td>Bank account or service</td>\n",
              "      <td>I opened an account with Citizens Bank XX/XX/X...</td>\n",
              "    </tr>\n",
              "    <tr>\n",
              "      <th>678311</th>\n",
              "      <td>Bank account or service</td>\n",
              "      <td>I had an HSA account with Wells Fargo for the ...</td>\n",
              "    </tr>\n",
              "  </tbody>\n",
              "</table>\n",
              "</div>"
            ],
            "text/plain": [
              "                         Product                                          Complaint\n",
              "739529   Bank account or service  I recall seeing statements from Wells Fargo bu...\n",
              "813086   Bank account or service  I had an insured money director account in XXX...\n",
              "894764   Bank account or service  I 'm XXXX and XXXX and XXXX and also will be f...\n",
              "688817   Bank account or service  I closed XXXX accounts with my bank when I mov...\n",
              "886894   Bank account or service  There is an ongoing dispute between myself and...\n",
              "781571   Bank account or service  Wells Fargo 's last letter to me stated that I...\n",
              "875623   Bank account or service  I am unable to open a checking account in the ...\n",
              "764321   Bank account or service  On XXXX/XXXX/XXXX I received a deposit refund ...\n",
              "639875   Bank account or service  XXXX Re your inquiry for more information, i h...\n",
              "722680   Bank account or service  Without notifying me, BBVA Compass closed both...\n",
              "901574   Bank account or service  I have had issues with my Scottrade Bank accou...\n",
              "734871   Bank account or service  Wells Fargo has a published policy about funds...\n",
              "929303   Bank account or service  I was scammed from the Internet of {$40000.00}...\n",
              "644627   Bank account or service  I have had a checking account with Citibank fo...\n",
              "668022   Bank account or service  I wrote a check to an individual on XXXX/XXXX/...\n",
              "816202   Bank account or service  On Monday, XXXX XXXX, 2016 at XXXX I submitted...\n",
              "789465   Bank account or service  My checking account currently has a block or r...\n",
              "928112   Bank account or service  Charges from gas stations were are on my card ...\n",
              "744518   Bank account or service  I opened an account at CASE, put in about {$10...\n",
              "1004215  Bank account or service  Wells Fargo called me on XXXX/XXXX/2015 and to...\n",
              "684106   Bank account or service  I have a checking account with Citibank, which...\n",
              "699181   Bank account or service  I had an unauthorized withdrawal from my check...\n",
              "825869   Bank account or service  I am on Social Security XXXX because of an XXX...\n",
              "960654   Bank account or service  At horrible dual charging complaints against C...\n",
              "662626   Bank account or service  I was hit with {$780.00} in over draft fees in...\n",
              "906487   Bank account or service  I 've had a checking, savings, pre-paid cards ...\n",
              "936741   Bank account or service  I opened an account with Citizens Bank XX/XX/X...\n",
              "678311   Bank account or service  I had an HSA account with Wells Fargo for the ..."
            ]
          },
          "metadata": {
            "tags": []
          }
        },
        {
          "output_type": "stream",
          "text": [
            "\n",
            "'Debt collection' predicted as 'Credit reporting, repair, or other' : 68 examples.\n"
          ],
          "name": "stdout"
        },
        {
          "output_type": "display_data",
          "data": {
            "text/html": [
              "<div>\n",
              "<style scoped>\n",
              "    .dataframe tbody tr th:only-of-type {\n",
              "        vertical-align: middle;\n",
              "    }\n",
              "\n",
              "    .dataframe tbody tr th {\n",
              "        vertical-align: top;\n",
              "    }\n",
              "\n",
              "    .dataframe thead th {\n",
              "        text-align: right;\n",
              "    }\n",
              "</style>\n",
              "<table border=\"1\" class=\"dataframe\">\n",
              "  <thead>\n",
              "    <tr style=\"text-align: right;\">\n",
              "      <th></th>\n",
              "      <th>Product</th>\n",
              "      <th>Complaint</th>\n",
              "    </tr>\n",
              "  </thead>\n",
              "  <tbody>\n",
              "    <tr>\n",
              "      <th>91262</th>\n",
              "      <td>Debt collection</td>\n",
              "      <td>FCRA 611 ( 15 U.S.C. 1681I ) PROCEDURE IN CASE...</td>\n",
              "    </tr>\n",
              "    <tr>\n",
              "      <th>960040</th>\n",
              "      <td>Debt collection</td>\n",
              "      <td>account was paid off on XXXX/XXXX/15. Confirma...</td>\n",
              "    </tr>\n",
              "    <tr>\n",
              "      <th>770005</th>\n",
              "      <td>Debt collection</td>\n",
              "      <td>I was XXXX when this all took place so this sh...</td>\n",
              "    </tr>\n",
              "    <tr>\n",
              "      <th>84801</th>\n",
              "      <td>Debt collection</td>\n",
              "      <td>I am contacting you about the compromising of ...</td>\n",
              "    </tr>\n",
              "    <tr>\n",
              "      <th>145136</th>\n",
              "      <td>Debt collection</td>\n",
              "      <td>I pulled all 3 of my credit reports to find ou...</td>\n",
              "    </tr>\n",
              "    <tr>\n",
              "      <th>...</th>\n",
              "      <td>...</td>\n",
              "      <td>...</td>\n",
              "    </tr>\n",
              "    <tr>\n",
              "      <th>982574</th>\n",
              "      <td>Debt collection</td>\n",
              "      <td>In XX/XX/XXXX, I contacted via letter disputes...</td>\n",
              "    </tr>\n",
              "    <tr>\n",
              "      <th>576969</th>\n",
              "      <td>Debt collection</td>\n",
              "      <td>I recently reviewed my credit report ( because...</td>\n",
              "    </tr>\n",
              "    <tr>\n",
              "      <th>351578</th>\n",
              "      <td>Debt collection</td>\n",
              "      <td>I am sorry that I keep opening a new complaint...</td>\n",
              "    </tr>\n",
              "    <tr>\n",
              "      <th>694853</th>\n",
              "      <td>Debt collection</td>\n",
              "      <td>I paid in the accounts with conns credit on ti...</td>\n",
              "    </tr>\n",
              "    <tr>\n",
              "      <th>304379</th>\n",
              "      <td>Debt collection</td>\n",
              "      <td>I have been a victim of identity theft.</td>\n",
              "    </tr>\n",
              "  </tbody>\n",
              "</table>\n",
              "<p>68 rows × 2 columns</p>\n",
              "</div>"
            ],
            "text/plain": [
              "                Product                                          Complaint\n",
              "91262   Debt collection  FCRA 611 ( 15 U.S.C. 1681I ) PROCEDURE IN CASE...\n",
              "960040  Debt collection  account was paid off on XXXX/XXXX/15. Confirma...\n",
              "770005  Debt collection  I was XXXX when this all took place so this sh...\n",
              "84801   Debt collection  I am contacting you about the compromising of ...\n",
              "145136  Debt collection  I pulled all 3 of my credit reports to find ou...\n",
              "...                 ...                                                ...\n",
              "982574  Debt collection  In XX/XX/XXXX, I contacted via letter disputes...\n",
              "576969  Debt collection  I recently reviewed my credit report ( because...\n",
              "351578  Debt collection  I am sorry that I keep opening a new complaint...\n",
              "694853  Debt collection  I paid in the accounts with conns credit on ti...\n",
              "304379  Debt collection            I have been a victim of identity theft.\n",
              "\n",
              "[68 rows x 2 columns]"
            ]
          },
          "metadata": {
            "tags": []
          }
        },
        {
          "output_type": "stream",
          "text": [
            "\n",
            "'Credit card or prepaid card' predicted as 'Credit reporting, repair, or other' : 30 examples.\n"
          ],
          "name": "stdout"
        },
        {
          "output_type": "display_data",
          "data": {
            "text/html": [
              "<div>\n",
              "<style scoped>\n",
              "    .dataframe tbody tr th:only-of-type {\n",
              "        vertical-align: middle;\n",
              "    }\n",
              "\n",
              "    .dataframe tbody tr th {\n",
              "        vertical-align: top;\n",
              "    }\n",
              "\n",
              "    .dataframe thead th {\n",
              "        text-align: right;\n",
              "    }\n",
              "</style>\n",
              "<table border=\"1\" class=\"dataframe\">\n",
              "  <thead>\n",
              "    <tr style=\"text-align: right;\">\n",
              "      <th></th>\n",
              "      <th>Product</th>\n",
              "      <th>Complaint</th>\n",
              "    </tr>\n",
              "  </thead>\n",
              "  <tbody>\n",
              "    <tr>\n",
              "      <th>768425</th>\n",
              "      <td>Credit card or prepaid card</td>\n",
              "      <td>In XXXX XXXX I contacted Capital One and it vi...</td>\n",
              "    </tr>\n",
              "    <tr>\n",
              "      <th>206258</th>\n",
              "      <td>Credit card or prepaid card</td>\n",
              "      <td>XXXX has been non-compliant with removing the ...</td>\n",
              "    </tr>\n",
              "    <tr>\n",
              "      <th>926047</th>\n",
              "      <td>Credit card or prepaid card</td>\n",
              "      <td>Back in XX/XX/XXXX2015 my Chase credit card wa...</td>\n",
              "    </tr>\n",
              "    <tr>\n",
              "      <th>118317</th>\n",
              "      <td>Credit card or prepaid card</td>\n",
              "      <td>Bank Re-opened and Closed their online portal ...</td>\n",
              "    </tr>\n",
              "    <tr>\n",
              "      <th>447854</th>\n",
              "      <td>Credit card or prepaid card</td>\n",
              "      <td>XXXX has reported to all 3 credit bureaus that...</td>\n",
              "    </tr>\n",
              "    <tr>\n",
              "      <th>483640</th>\n",
              "      <td>Credit card or prepaid card</td>\n",
              "      <td>XXXX XXXX, XXXX cbna/thd company made a hard i...</td>\n",
              "    </tr>\n",
              "    <tr>\n",
              "      <th>701329</th>\n",
              "      <td>Credit card or prepaid card</td>\n",
              "      <td>I submitted a previous complaint against tidew...</td>\n",
              "    </tr>\n",
              "    <tr>\n",
              "      <th>37176</th>\n",
              "      <td>Credit card or prepaid card</td>\n",
              "      <td>OnXX/XX/2019weflewtoXXXXXXXXandattheairportloo...</td>\n",
              "    </tr>\n",
              "    <tr>\n",
              "      <th>222016</th>\n",
              "      <td>Credit card or prepaid card</td>\n",
              "      <td>I recently looked at my credit reports and not...</td>\n",
              "    </tr>\n",
              "    <tr>\n",
              "      <th>814251</th>\n",
              "      <td>Credit card or prepaid card</td>\n",
              "      <td>TD Bank/ Target XXXX should be reporting a ZER...</td>\n",
              "    </tr>\n",
              "    <tr>\n",
              "      <th>774109</th>\n",
              "      <td>Credit card or prepaid card</td>\n",
              "      <td>Did not provide a response Delinquent Account ...</td>\n",
              "    </tr>\n",
              "    <tr>\n",
              "      <th>455300</th>\n",
              "      <td>Credit card or prepaid card</td>\n",
              "      <td>yes XXXX XXXX put in another credit card under...</td>\n",
              "    </tr>\n",
              "    <tr>\n",
              "      <th>469629</th>\n",
              "      <td>Credit card or prepaid card</td>\n",
              "      <td>I am inquiring about removing a few late payme...</td>\n",
              "    </tr>\n",
              "    <tr>\n",
              "      <th>982394</th>\n",
              "      <td>Credit card or prepaid card</td>\n",
              "      <td>PayPal opened up a line of credit for me witho...</td>\n",
              "    </tr>\n",
              "    <tr>\n",
              "      <th>767716</th>\n",
              "      <td>Credit card or prepaid card</td>\n",
              "      <td>A business with its own Federal EIN tax ID ope...</td>\n",
              "    </tr>\n",
              "    <tr>\n",
              "      <th>595868</th>\n",
              "      <td>Credit card or prepaid card</td>\n",
              "      <td>Tried working with Discover who have been all ...</td>\n",
              "    </tr>\n",
              "    <tr>\n",
              "      <th>736619</th>\n",
              "      <td>Credit card or prepaid card</td>\n",
              "      <td>They have failed to verify the information tha...</td>\n",
              "    </tr>\n",
              "    <tr>\n",
              "      <th>475372</th>\n",
              "      <td>Credit card or prepaid card</td>\n",
              "      <td>Again this nightmare with Citigroup!!! A year ...</td>\n",
              "    </tr>\n",
              "    <tr>\n",
              "      <th>959384</th>\n",
              "      <td>Credit card or prepaid card</td>\n",
              "      <td>BRIGHTWATER CAPITALC/O XXXX XXXX XXXX XXXX XXX...</td>\n",
              "    </tr>\n",
              "    <tr>\n",
              "      <th>335315</th>\n",
              "      <td>Credit card or prepaid card</td>\n",
              "      <td>As of XX/XX/2018, I paid off my XXXX XXXX XXXX...</td>\n",
              "    </tr>\n",
              "    <tr>\n",
              "      <th>689813</th>\n",
              "      <td>Credit card or prepaid card</td>\n",
              "      <td>Refusing to cash check. \\n\\nCertegy reason XXX...</td>\n",
              "    </tr>\n",
              "    <tr>\n",
              "      <th>281527</th>\n",
              "      <td>Credit card or prepaid card</td>\n",
              "      <td>I am a victim of identity theft and this accou...</td>\n",
              "    </tr>\n",
              "    <tr>\n",
              "      <th>901339</th>\n",
              "      <td>Credit card or prepaid card</td>\n",
              "      <td>Rush card has {$1300.00} of mine held in my ac...</td>\n",
              "    </tr>\n",
              "    <tr>\n",
              "      <th>210748</th>\n",
              "      <td>Credit card or prepaid card</td>\n",
              "      <td>I have a loan with XXXX XXXX. I have always ma...</td>\n",
              "    </tr>\n",
              "    <tr>\n",
              "      <th>796889</th>\n",
              "      <td>Credit card or prepaid card</td>\n",
              "      <td>I have XXXX inquires on my credit report from ...</td>\n",
              "    </tr>\n",
              "    <tr>\n",
              "      <th>283765</th>\n",
              "      <td>Credit card or prepaid card</td>\n",
              "      <td>I received a letter purportedly from XXXX XXXX...</td>\n",
              "    </tr>\n",
              "    <tr>\n",
              "      <th>165997</th>\n",
              "      <td>Credit card or prepaid card</td>\n",
              "      <td>There were two XXXX XXXX accounts on my consum...</td>\n",
              "    </tr>\n",
              "    <tr>\n",
              "      <th>876475</th>\n",
              "      <td>Credit card or prepaid card</td>\n",
              "      <td>I write you as I believe I have been the victi...</td>\n",
              "    </tr>\n",
              "    <tr>\n",
              "      <th>980373</th>\n",
              "      <td>Credit card or prepaid card</td>\n",
              "      <td>Paypal opened a credit card account without my...</td>\n",
              "    </tr>\n",
              "    <tr>\n",
              "      <th>290173</th>\n",
              "      <td>Credit card or prepaid card</td>\n",
              "      <td>I went online and selected the option to pay t...</td>\n",
              "    </tr>\n",
              "  </tbody>\n",
              "</table>\n",
              "</div>"
            ],
            "text/plain": [
              "                            Product                                          Complaint\n",
              "768425  Credit card or prepaid card  In XXXX XXXX I contacted Capital One and it vi...\n",
              "206258  Credit card or prepaid card  XXXX has been non-compliant with removing the ...\n",
              "926047  Credit card or prepaid card  Back in XX/XX/XXXX2015 my Chase credit card wa...\n",
              "118317  Credit card or prepaid card  Bank Re-opened and Closed their online portal ...\n",
              "447854  Credit card or prepaid card  XXXX has reported to all 3 credit bureaus that...\n",
              "483640  Credit card or prepaid card  XXXX XXXX, XXXX cbna/thd company made a hard i...\n",
              "701329  Credit card or prepaid card  I submitted a previous complaint against tidew...\n",
              "37176   Credit card or prepaid card  OnXX/XX/2019weflewtoXXXXXXXXandattheairportloo...\n",
              "222016  Credit card or prepaid card  I recently looked at my credit reports and not...\n",
              "814251  Credit card or prepaid card  TD Bank/ Target XXXX should be reporting a ZER...\n",
              "774109  Credit card or prepaid card  Did not provide a response Delinquent Account ...\n",
              "455300  Credit card or prepaid card  yes XXXX XXXX put in another credit card under...\n",
              "469629  Credit card or prepaid card  I am inquiring about removing a few late payme...\n",
              "982394  Credit card or prepaid card  PayPal opened up a line of credit for me witho...\n",
              "767716  Credit card or prepaid card  A business with its own Federal EIN tax ID ope...\n",
              "595868  Credit card or prepaid card  Tried working with Discover who have been all ...\n",
              "736619  Credit card or prepaid card  They have failed to verify the information tha...\n",
              "475372  Credit card or prepaid card  Again this nightmare with Citigroup!!! A year ...\n",
              "959384  Credit card or prepaid card  BRIGHTWATER CAPITALC/O XXXX XXXX XXXX XXXX XXX...\n",
              "335315  Credit card or prepaid card  As of XX/XX/2018, I paid off my XXXX XXXX XXXX...\n",
              "689813  Credit card or prepaid card  Refusing to cash check. \\n\\nCertegy reason XXX...\n",
              "281527  Credit card or prepaid card  I am a victim of identity theft and this accou...\n",
              "901339  Credit card or prepaid card  Rush card has {$1300.00} of mine held in my ac...\n",
              "210748  Credit card or prepaid card  I have a loan with XXXX XXXX. I have always ma...\n",
              "796889  Credit card or prepaid card  I have XXXX inquires on my credit report from ...\n",
              "283765  Credit card or prepaid card  I received a letter purportedly from XXXX XXXX...\n",
              "165997  Credit card or prepaid card  There were two XXXX XXXX accounts on my consum...\n",
              "876475  Credit card or prepaid card  I write you as I believe I have been the victi...\n",
              "980373  Credit card or prepaid card  Paypal opened a credit card account without my...\n",
              "290173  Credit card or prepaid card  I went online and selected the option to pay t..."
            ]
          },
          "metadata": {
            "tags": []
          }
        },
        {
          "output_type": "stream",
          "text": [
            "\n"
          ],
          "name": "stdout"
        }
      ]
    },
    {
      "cell_type": "code",
      "metadata": {
        "id": "CdWf2xf2uYuE",
        "colab_type": "code",
        "outputId": "b43d1bc2-7257-482c-e3ce-0c6dfb60bf01",
        "colab": {
          "base_uri": "https://localhost:8080/",
          "height": 901
        }
      },
      "source": [
        "model.fit(features, labels)\n",
        "\n",
        "N = 4\n",
        "for Product, CategoryId in sorted(category_to_id.items()):\n",
        "  indices = np.argsort(model.coef_[CategoryId])\n",
        "  feature_names = np.array(tfidf_score.get_feature_names())[indices]\n",
        "  unigrams = [v for v in reversed(feature_names) if len(v.split(' ')) == 1][:N]\n",
        "  bigrams = [v for v in reversed(feature_names) if len(v.split(' ')) == 2][:N]\n",
        "  print(\"\\n==> '{}':\".format(Product))\n",
        "  print(\"  * Top unigrams: %s\" %(', '.join(unigrams)))\n",
        "  print(\"  * Top bigrams: %s\" %(', '.join(bigrams)))"
      ],
      "execution_count": 0,
      "outputs": [
        {
          "output_type": "stream",
          "text": [
            "\n",
            "==> 'Bank account or service':\n",
            "  * Top unigrams: bank, citigold, fradulent, usaa\n",
            "  * Top bigrams: pay bills, citigold checking, usaa bank, checking xxxx\n",
            "\n",
            "==> 'Checking or savings account':\n",
            "  * Top unigrams: bank, atm, cd, deposit\n",
            "  * Top bigrams: debit card, unauthorized charges, open bank, checking account\n",
            "\n",
            "==> 'Consumer Loan':\n",
            "  * Top unigrams: ally, vehicle, springleaf, car\n",
            "  * Top bigrams: loan charged, took loan, authorize credit, finance xxxx\n",
            "\n",
            "==> 'Credit card or prepaid card':\n",
            "  * Top unigrams: card, capital, barclays, discover\n",
            "  * Top bigrams: credit card, american express, late fee, balance transfer\n",
            "\n",
            "==> 'Credit reporting, repair, or other':\n",
            "  * Top unigrams: equifax, experian, transunion, inquiries\n",
            "  * Top bigrams: xxxx xxxx, xxxx experian, trans union, contacted xxxx\n",
            "\n",
            "==> 'Debt collection':\n",
            "  * Top unigrams: debt, collect, collection, owe\n",
            "  * Top bigrams: account unauthorized, violation knowledge, negative remarks, legal action\n",
            "\n",
            "==> 'Money transfer, virtual currency, or money service':\n",
            "  * Top unigrams: coinbase, paypal, money, pretend\n",
            "  * Top bigrams: bank account, wire transfers, cash check, xxxx 2018\n",
            "\n",
            "==> 'Money transfers':\n",
            "  * Top unigrams: transfer, money, western, wu\n",
            "  * Top bigrams: western union, money gram, money transfer, refund charges\n",
            "\n",
            "==> 'Mortgage':\n",
            "  * Top unigrams: mortgage, escrow, modification, home\n",
            "  * Top bigrams: short sale, account reporting, home loans, mortgage payment\n",
            "\n",
            "==> 'Other financial service':\n",
            "  * Top unigrams: ace, repair, deducted, vast\n",
            "  * Top bigrams: repair credit, months service, xxxx matter, cash check\n",
            "\n",
            "==> 'Payday loan, title loan, or personal loan':\n",
            "  * Top unigrams: loan, payday, borrowed, com\n",
            "  * Top bigrams: payday loan, got loan, legally allowed, title loan\n",
            "\n",
            "==> 'Student loan':\n",
            "  * Top unigrams: navient, student, loans, nelnet\n",
            "  * Top bigrams: student loans, statement payment, sallie mae, promissory note\n",
            "\n",
            "==> 'Vehicle loan or lease':\n",
            "  * Top unigrams: car, auto, toyota, vehicle\n",
            "  * Top bigrams: current account, account close, capital auto, pulled xxxx\n"
          ],
          "name": "stdout"
        }
      ]
    },
    {
      "cell_type": "code",
      "metadata": {
        "id": "ZmR1CEjPufBa",
        "colab_type": "code",
        "colab": {}
      },
      "source": [
        "X_train, X_test, y_train, y_test = train_test_split(X, y, test_size=0.25, random_state = 0)\n",
        "\n",
        "tfidf = TfidfVectorizer(sublinear_tf=True, min_df=5,\n",
        "                        ngram_range=(1, 2), \n",
        "                        stop_words='english')\n",
        "\n",
        "fitted_vectorizer = tfidf.fit(X_train)\n",
        "tfidf_vectorizer_vectors = fitted_vectorizer.transform(X_train)\n",
        "\n",
        "model = LinearSVC().fit(tfidf_vectorizer_vectors, y_train)"
      ],
      "execution_count": 0,
      "outputs": []
    },
    {
      "cell_type": "code",
      "metadata": {
        "id": "kFfSXV8KuhaQ",
        "colab_type": "code",
        "outputId": "fcf13838-679f-47d5-b161-5568ff280673",
        "colab": {
          "base_uri": "https://localhost:8080/",
          "height": 34
        }
      },
      "source": [
        "new_complaint = \"\"\"I am Subhiksha, I am studying at Syracuse University. Recently, i have been harassed by \\\n",
        "Navient for the last month. I have taken a loan and paid it back with interests. I have faxed in paperwork providing them with everything they needed. And yet I am still getting \\\n",
        "phone calls for payments. Furthermore, Navient is now reporting to the credit bureaus that I am late. At this point, \\\n",
        "Navient needs to get their act together to avoid me taking further action. I have been enrolled the entire time and my \\\n",
        "deferment should be valid with my planned graduation date being the XX/XX/XXXX.\"\"\"\n",
        "print(model.predict(fitted_vectorizer.transform([new_complaint])))"
      ],
      "execution_count": 0,
      "outputs": [
        {
          "output_type": "stream",
          "text": [
            "['Student loan']\n"
          ],
          "name": "stdout"
        }
      ]
    },
    {
      "cell_type": "code",
      "metadata": {
        "id": "0nxFVI0vuk51",
        "colab_type": "code",
        "outputId": "8e06999e-4db7-46d0-c631-d300719579bf",
        "colab": {
          "base_uri": "https://localhost:8080/",
          "height": 49
        }
      },
      "source": [
        "df2[df2['Complaint'] == new_complaint]"
      ],
      "execution_count": 0,
      "outputs": [
        {
          "output_type": "execute_result",
          "data": {
            "text/html": [
              "<div>\n",
              "<style scoped>\n",
              "    .dataframe tbody tr th:only-of-type {\n",
              "        vertical-align: middle;\n",
              "    }\n",
              "\n",
              "    .dataframe tbody tr th {\n",
              "        vertical-align: top;\n",
              "    }\n",
              "\n",
              "    .dataframe thead th {\n",
              "        text-align: right;\n",
              "    }\n",
              "</style>\n",
              "<table border=\"1\" class=\"dataframe\">\n",
              "  <thead>\n",
              "    <tr style=\"text-align: right;\">\n",
              "      <th></th>\n",
              "      <th>Product</th>\n",
              "      <th>Complaint</th>\n",
              "      <th>CategoryId</th>\n",
              "    </tr>\n",
              "  </thead>\n",
              "  <tbody>\n",
              "  </tbody>\n",
              "</table>\n",
              "</div>"
            ],
            "text/plain": [
              "Empty DataFrame\n",
              "Columns: [Product, Complaint, CategoryId]\n",
              "Index: []"
            ]
          },
          "metadata": {
            "tags": []
          },
          "execution_count": 26
        }
      ]
    },
    {
      "cell_type": "code",
      "metadata": {
        "id": "FD96ITkjun4h",
        "colab_type": "code",
        "outputId": "28d82d08-8faf-4d08-a114-16d73a0e91c8",
        "colab": {
          "base_uri": "https://localhost:8080/",
          "height": 34
        }
      },
      "source": [
        "new_complaint_2 = \"\"\"Equifax exposed my personal information without my consent, as part of their recent data breach. \\\n",
        "In addition, they dragged their feet in the announcement of the report, and even allowed their upper management to sell \\\n",
        "off stock before the announcement.\"\"\"\n",
        "print(model.predict(fitted_vectorizer.transform([new_complaint_2])))"
      ],
      "execution_count": 0,
      "outputs": [
        {
          "output_type": "stream",
          "text": [
            "['Credit reporting, repair, or other']\n"
          ],
          "name": "stdout"
        }
      ]
    },
    {
      "cell_type": "code",
      "metadata": {
        "id": "XYyp0d7nuraT",
        "colab_type": "code",
        "outputId": "ed50fa49-90ad-42c5-bd08-a67edb31e9ac",
        "colab": {
          "base_uri": "https://localhost:8080/",
          "height": 49
        }
      },
      "source": [
        "df2[df2['Complaint'] == new_complaint_2]"
      ],
      "execution_count": 0,
      "outputs": [
        {
          "output_type": "execute_result",
          "data": {
            "text/html": [
              "<div>\n",
              "<style scoped>\n",
              "    .dataframe tbody tr th:only-of-type {\n",
              "        vertical-align: middle;\n",
              "    }\n",
              "\n",
              "    .dataframe tbody tr th {\n",
              "        vertical-align: top;\n",
              "    }\n",
              "\n",
              "    .dataframe thead th {\n",
              "        text-align: right;\n",
              "    }\n",
              "</style>\n",
              "<table border=\"1\" class=\"dataframe\">\n",
              "  <thead>\n",
              "    <tr style=\"text-align: right;\">\n",
              "      <th></th>\n",
              "      <th>Product</th>\n",
              "      <th>Complaint</th>\n",
              "      <th>CategoryId</th>\n",
              "    </tr>\n",
              "  </thead>\n",
              "  <tbody>\n",
              "  </tbody>\n",
              "</table>\n",
              "</div>"
            ],
            "text/plain": [
              "Empty DataFrame\n",
              "Columns: [Product, Complaint, CategoryId]\n",
              "Index: []"
            ]
          },
          "metadata": {
            "tags": []
          },
          "execution_count": 28
        }
      ]
    },
    {
      "cell_type": "code",
      "metadata": {
        "id": "SBhsphiCuI9d",
        "colab_type": "code",
        "outputId": "bbffa674-2d4b-481b-a9db-66cdc75da7a2",
        "colab": {
          "base_uri": "https://localhost:8080/",
          "height": 50
        }
      },
      "source": [
        "nltk.download('vader_lexicon')\n",
        "\n",
        "# SentimentIntensityAnalyser object is loaded\n",
        "from nltk.sentiment.vader import SentimentIntensityAnalyzer\n",
        "\n",
        "analyzer = SentimentIntensityAnalyzer()"
      ],
      "execution_count": 0,
      "outputs": [
        {
          "output_type": "stream",
          "text": [
            "[nltk_data] Downloading package vader_lexicon to /root/nltk_data...\n",
            "[nltk_data]   Package vader_lexicon is already up-to-date!\n"
          ],
          "name": "stdout"
        }
      ]
    },
    {
      "cell_type": "code",
      "metadata": {
        "id": "oY5CC_CDudSs",
        "colab_type": "code",
        "colab": {}
      },
      "source": [
        "# function to get the negative score of a complaint\n",
        "def negative_score(text):\n",
        "    neg_value = analyzer.polarity_scores(text)['neg']\n",
        "    return neg_value\n",
        "\n",
        "# function to get the neutral score of a complaint\n",
        "def neutral_score(text):\n",
        "    neu_value = analyzer.polarity_scores(text)['neu']\n",
        "    return neu_value\n",
        "\n",
        "# function to get the compound score of a complaint\n",
        "def compound_score(text):\n",
        "    comp_value = analyzer.polarity_scores(text)['compound']\n",
        "    return comp_value"
      ],
      "execution_count": 0,
      "outputs": []
    },
    {
      "cell_type": "code",
      "metadata": {
        "id": "Rnj2XwYKueQ1",
        "colab_type": "code",
        "colab": {}
      },
      "source": [
        "dataframe1['negative_sentiment'] = dataframe1['Complaint'].apply(negative_score)\n",
        "dataframe1['neutral_sentiment'] = dataframe1['Complaint'].apply(neutral_score)\n",
        "dataframe1['compound_sentiment'] = dataframe1['Complaint'].apply(compound_score)"
      ],
      "execution_count": 0,
      "outputs": []
    },
    {
      "cell_type": "code",
      "metadata": {
        "id": "XRct8TG1vNWp",
        "colab_type": "code",
        "outputId": "b5aa60b2-5813-42d6-fddd-6fedb3dce97e",
        "colab": {
          "base_uri": "https://localhost:8080/",
          "height": 371
        }
      },
      "source": [
        "fig, axes = plt.subplots(1, 3, figsize=(15,5))\n",
        "\n",
        "# plotting all histograms for positive, negative, neutral, compound\n",
        "dataframe1.hist('neg_sentiment', bins=25, ax=axes[0], color='green', alpha=0.6)\n",
        "axes[0].set_title('Negative Sentiment Score')\n",
        "dataframe1.hist('neu_sentiment', bins=25, ax=axes[1], color='steelblue', alpha=0.6)\n",
        "axes[1].set_title('Neutral Sentiment Score')\n",
        "dataframe1.hist('comp_sentiment', bins=25, ax=axes[2], color='orange', alpha=0.6)\n",
        "axes[2].set_title('Compound')\n",
        "\n",
        "# plot common x- and y-label\n",
        "fig.text(0.5, 0.04, 'Sentiment Scores',  fontweight='bold', ha='center')\n",
        "fig.text(0.04, 0.5, 'Number of Complaints', fontweight='bold', va='center', rotation='vertical')\n",
        "\n",
        "# plot title\n",
        "plt.suptitle('Sentiment Analysis of CFPB Complaints\\n\\n', fontsize=12, fontweight='bold');"
      ],
      "execution_count": 79,
      "outputs": [
        {
          "output_type": "display_data",
          "data": {
            "image/png": "[encoded data removed]",
            "text/plain": [
              "<Figure size 1080x360 with 3 Axes>"
            ]
          },
          "metadata": {
            "tags": []
          }
        }
      ]
    },
    {
      "cell_type": "code",
      "metadata": {
        "id": "a630TxogvOkT",
        "colab_type": "code",
        "colab": {}
      },
      "source": [
        "# all NEGATIVE comments in the dataframe\n",
        "df_neg = dataframe1.loc[dataframe1.comp_sentiment < 0.0]\n",
        "\n",
        "# only corpus of NEGATIVE comments\n",
        "neg_comments = df_neg['Complaint'].tolist()\n"
      ],
      "execution_count": 0,
      "outputs": []
    },
    {
      "cell_type": "code",
      "metadata": {
        "id": "S-mLDSsHvSlL",
        "colab_type": "code",
        "outputId": "304febf3-f8b4-4c27-f18e-37e6bc0dc66e",
        "colab": {
          "base_uri": "https://localhost:8080/",
          "height": 118
        }
      },
      "source": [
        "df_neg['text_length'] = df_neg['Complaint'].apply(len)"
      ],
      "execution_count": 87,
      "outputs": [
        {
          "output_type": "stream",
          "text": [
            "/usr/local/lib/python3.6/dist-packages/ipykernel_launcher.py:1: SettingWithCopyWarning: \n",
            "A value is trying to be set on a copy of a slice from a DataFrame.\n",
            "Try using .loc[row_indexer,col_indexer] = value instead\n",
            "\n",
            "See the caveats in the documentation: https://pandas.pydata.org/pandas-docs/stable/user_guide/indexing.html#returning-a-view-versus-a-copy\n",
            "  \"\"\"Entry point for launching an IPython kernel.\n"
          ],
          "name": "stderr"
        }
      ]
    },
    {
      "cell_type": "code",
      "metadata": {
        "id": "MteaX6EwvYBy",
        "colab_type": "code",
        "outputId": "bff45f16-1d32-42c5-c025-a9d1c9146b3d",
        "colab": {
          "base_uri": "https://localhost:8080/",
          "height": 391
        }
      },
      "source": [
        "sns.set_style(\"whitegrid\")\n",
        "plt.figure(figsize=(8,5))\n",
        "\n",
        "sns.distplot(df_neg['text_length'], kde=True, bins=50, color='red')\n",
        "\n",
        "plt.title('\\nDistribution Plot for Length of Complaint\\n')\n",
        "plt.legend(['Negative Complaints'])\n",
        "plt.xlabel('\\nText Length')\n",
        "plt.ylabel('Percentage of Comments\\n');"
      ],
      "execution_count": 91,
      "outputs": [
        {
          "output_type": "display_data",
          "data": {
            "image/png": "[encoded data removed]",
            "text/plain": [
              "<Figure size 576x360 with 1 Axes>"
            ]
          },
          "metadata": {
            "tags": []
          }
        }
      ]
    }
  ]
}